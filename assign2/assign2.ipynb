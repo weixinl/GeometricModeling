{
 "cells": [
  {
   "cell_type": "code",
   "execution_count": 1,
   "metadata": {
    "scrolled": true
   },
   "outputs": [],
   "source": [
    "import numpy as np\n",
    "import igl\n",
    "import meshplot as mp"
   ]
  },
  {
   "cell_type": "code",
   "execution_count": 2,
   "metadata": {
    "scrolled": true
   },
   "outputs": [],
   "source": [
    "# Utility function to generate a tet grid\n",
    "# n is a 3-tuple with the number of cell in every direction\n",
    "# mmin/mmax are the grid bounding box corners\n",
    "\n",
    "def tet_grid(n, mmin, mmax):\n",
    "    nx = n[0]\n",
    "    ny = n[1]\n",
    "    nz = n[2]\n",
    "    \n",
    "    delta = mmax-mmin\n",
    "    \n",
    "    deltax = delta[0]/(nx-1)\n",
    "    deltay = delta[1]/(ny-1)\n",
    "    deltaz = delta[2]/(nz-1)\n",
    "    \n",
    "    T = np.zeros(((nx-1)*(ny-1)*(nz-1)*6, 4), dtype=np.int64)\n",
    "    V = np.zeros((nx*ny*nz, 3))\n",
    "\n",
    "    mapping = -np.ones((nx, ny, nz), dtype=np.int64)\n",
    "\n",
    "\n",
    "    index = 0\n",
    "    for i in range(nx):\n",
    "        for j in range(ny):\n",
    "            for k in range(nz):\n",
    "                mapping[i, j, k] = index\n",
    "                V[index, :] = [i*deltax, j*deltay, k*deltaz]\n",
    "                index += 1\n",
    "    assert(index == V.shape[0])\n",
    "    \n",
    "    tets = np.array([\n",
    "        [0,1,3,4],\n",
    "        [5,2,6,7],\n",
    "        [4,1,5,3],\n",
    "        [4,3,7,5],\n",
    "        [3,1,5,2],\n",
    "        [2,3,7,5]\n",
    "    ])\n",
    "    \n",
    "    index = 0\n",
    "    for i in range(nx-1):\n",
    "        for j in range(ny-1):\n",
    "            for k in range(nz-1):\n",
    "                indices = [\n",
    "                    (i,   j,   k),\n",
    "                    (i+1, j,   k),\n",
    "                    (i+1, j+1, k),\n",
    "                    (i,   j+1, k),\n",
    "\n",
    "                    (i,   j,   k+1),\n",
    "                    (i+1, j,   k+1),\n",
    "                    (i+1, j+1, k+1),\n",
    "                    (i,   j+1, k+1),\n",
    "                ]\n",
    "                \n",
    "                for t in range(tets.shape[0]):\n",
    "                    tmp = [mapping[indices[ii]] for ii in tets[t, :]]\n",
    "                    T[index, :]=tmp\n",
    "                    index += 1\n",
    "                    \n",
    "    assert(index == T.shape[0])\n",
    "    \n",
    "    V += mmin\n",
    "    return V, T"
   ]
  },
  {
   "cell_type": "code",
   "execution_count": 3,
   "metadata": {},
   "outputs": [],
   "source": [
    "# mp(V,T)"
   ]
  },
  {
   "cell_type": "markdown",
   "metadata": {},
   "source": [
    "# Reading point cloud"
   ]
  },
  {
   "cell_type": "code",
   "execution_count": 4,
   "metadata": {},
   "outputs": [
    {
     "name": "stderr",
     "output_type": "stream",
     "text": [
      "E:\\Programs\\Anaconoda\\envs\\py38\\lib\\site-packages\\jupyter_client\\session.py:716: UserWarning: Message serialization failed with:\n",
      "Out of range float values are not JSON compliant\n",
      "Supporting this message is deprecated in jupyter-client 7, please make sure your message is JSON-compliant\n",
      "  content = self.pack(content)\n"
     ]
    },
    {
     "data": {
      "application/vnd.jupyter.widget-view+json": {
       "model_id": "86dc5da9838c45fcbecd8db04a5228f6",
       "version_major": 2,
       "version_minor": 0
      },
      "text/plain": [
       "Renderer(camera=PerspectiveCamera(children=(DirectionalLight(color='white', intensity=0.6, position=(5.0, -23.…"
      ]
     },
     "metadata": {},
     "output_type": "display_data"
    },
    {
     "data": {
      "text/plain": [
       "<meshplot.Viewer.Viewer at 0x1dc75242820>"
      ]
     },
     "execution_count": 4,
     "metadata": {},
     "output_type": "execute_result"
    }
   ],
   "source": [
    "# pi is point array, v is face array\n",
    "pi, v = igl.read_triangle_mesh(\"data/cat.off\")\n",
    "pi /= 10\n",
    "ni = igl.per_vertex_normals(pi, v)\n",
    "mp.plot(pi, shading={\"point_size\": 8})"
   ]
  },
  {
   "cell_type": "markdown",
   "metadata": {},
   "source": [
    "# Setting up the Constraints"
   ]
  },
  {
   "cell_type": "code",
   "execution_count": 5,
   "metadata": {},
   "outputs": [
    {
     "name": "stdout",
     "output_type": "stream",
     "text": [
      "max_coordinate: [32.7 16.7  5.8]\n",
      "min_coordinate: [-22.7 -63.7 -99. ]\n",
      "v_num 366\n"
     ]
    }
   ],
   "source": [
    "max_coordinate = np.max(pi, axis = 0)\n",
    "min_coordinate = np.min(pi, axis = 0)\n",
    "diagonal_len = igl.bounding_box_diagonal(pi)\n",
    "print(\"max_coordinate: \"+ str(max_coordinate))\n",
    "print(\"min_coordinate: \"+ str(min_coordinate))\n",
    "\n",
    "v_num = pi.shape[0]\n",
    "print(\"v_num\", v_num)"
   ]
  },
  {
   "cell_type": "code",
   "execution_count": 6,
   "metadata": {},
   "outputs": [],
   "source": [
    "# return id of closed point\n",
    "def find_closed_point(point, points):\n",
    "    # distances of each point\n",
    "    distances = np.linalg.norm(points - point, axis = 1)\n",
    "    return np.argmin(distances)"
   ]
  },
  {
   "cell_type": "code",
   "execution_count": 7,
   "metadata": {},
   "outputs": [],
   "source": [
    "# get appropriate eps for this point\n",
    "def update_eps(_eps, _x_id, _x_coord, _norm):\n",
    "    x_eps = _x_coord + _norm * _eps\n",
    "    if(find_closed_point(x_eps, pi) == _x_id):\n",
    "        return _eps\n",
    "    else:\n",
    "        return update_eps(_eps/2, _x_id, _x_coord, _norm)\n",
    "    "
   ]
  },
  {
   "cell_type": "code",
   "execution_count": 13,
   "metadata": {},
   "outputs": [
    {
     "data": {
      "application/vnd.jupyter.widget-view+json": {
       "model_id": "ddec5029f07a41079b6d111c049d713c",
       "version_major": 2,
       "version_minor": 0
      },
      "text/plain": [
       "Renderer(camera=PerspectiveCamera(children=(DirectionalLight(color='white', intensity=0.6, position=(5.0120944…"
      ]
     },
     "metadata": {},
     "output_type": "display_data"
    },
    {
     "data": {
      "text/plain": [
       "<meshplot.Viewer.Viewer at 0x1dc752c0940>"
      ]
     },
     "execution_count": 13,
     "metadata": {},
     "output_type": "execute_result"
    }
   ],
   "source": [
    "# initial eps\n",
    "eps = 0.01 * diagonal_len\n",
    "# print(eps)\n",
    "\n",
    "# get v+ and v- for each vertex v\n",
    "constraint_v_coord_arr = np.zeros((3*v_num, 3), dtype = np.float64)\n",
    "constraint_fval_arr = np.zeros(3*v_num, dtype = np.float64)\n",
    "constraint_color_arr = np.zeros((3*v_num, 3), dtype = np.float64) #RGB\n",
    "for v_id in range(v_num):\n",
    "    coord = pi[v_id]\n",
    "    norm = ni[v_id]\n",
    "    constraint_v_coord_arr[3*v_id] = coord\n",
    "    constraint_fval_arr[3*v_id] = 0.0\n",
    "    constraint_color_arr[3*v_id] = [0.0, 0.0, 1.0]\n",
    "    # for v+\n",
    "    eps = update_eps(eps, v_id, coord, norm)\n",
    "    constraint_v_coord_arr[3*v_id + 1] = coord + eps * norm\n",
    "    constraint_fval_arr[3*v_id + 1] = eps\n",
    "    constraint_color_arr[3*v_id + 1] = [1.0, 0.0, 0.0]\n",
    "    # for v-\n",
    "    eps = update_eps(eps, v_id, coord, -norm)\n",
    "    constraint_v_coord_arr[3*v_id + 2] = coord - eps * norm\n",
    "    constraint_fval_arr[3*v_id + 2] = -eps\n",
    "    constraint_color_arr[3*v_id + 2] = [0.0, 1.0, 0.0]\n",
    "\n",
    "# plot constraint points\n",
    "mp.plot(constraint_v_coord_arr, c = constraint_color_arr, shading={\"point_size\": 8})"
   ]
  },
  {
   "cell_type": "markdown",
   "metadata": {},
   "source": [
    "# MLS Interpolation"
   ]
  },
  {
   "cell_type": "code",
   "execution_count": 9,
   "metadata": {
    "scrolled": true
   },
   "outputs": [
    {
     "name": "stdout",
     "output_type": "stream",
     "text": [
      "grid_v_num:  15625\n",
      "poly_coeff_num:  1\n"
     ]
    }
   ],
   "source": [
    "# Generate grid n x n x n\n",
    "n = 25\n",
    "grid_vertices, T = tet_grid((n, n, n), min_coordinate - 0.05 * diagonal_len, max_coordinate + 0.05 * diagonal_len)\n",
    "\n",
    "grid_v_num = grid_vertices.shape[0]\n",
    "print(\"grid_v_num: \", grid_v_num)\n",
    "wendland_h = 25 # wendlandRadius\n",
    "poly_degree = 0\n",
    "poly_coeff_num = 0\n",
    "if(poly_degree == 0):\n",
    "    poly_coeff_num = 1\n",
    "elif(poly_degree == 1):\n",
    "    poly_coeff_num = 4\n",
    "elif(poly_degree == 2):\n",
    "    poly_coeff_num = 10\n",
    "print(\"poly_coeff_num: \", poly_coeff_num)"
   ]
  },
  {
   "cell_type": "code",
   "execution_count": 10,
   "metadata": {},
   "outputs": [],
   "source": [
    "# wendland weight function\n",
    "def wendland(_r):\n",
    "    return pow(1 - _r/wendland_h, 4)*(4*_r/wendland_h + 1)\n",
    "\n",
    "# select constraint point ids for each grid vertex\n",
    "def get_close_points_ids(_point, _points, _h):\n",
    "    return np.argwhere(np.linalg.norm(_points - _point, axis = 1) < _h).ravel()\n",
    "\n",
    "# get_close_points_ids([1,1,1], constraint_v_coord_arr, 10)\n",
    "\n",
    "def get_poly_terms(_coord):\n",
    "    x = _coord[0]\n",
    "    y = _coord[1]\n",
    "    z = _coord[2]\n",
    "    if(poly_degree == 0):\n",
    "        return np.array([1.0])\n",
    "    elif(poly_degree == 1):\n",
    "        return np.array([1.0, x, y, z])\n",
    "    elif(poly_degree == 2):\n",
    "        return np.array([1.0, x, y, z, x*x, y*y, z*z, x*y, y*z, z*x])\n",
    "    print(\"error: incorrect poly_degree\")\n",
    "    return None\n",
    "    "
   ]
  },
  {
   "cell_type": "code",
   "execution_count": 14,
   "metadata": {},
   "outputs": [
    {
     "data": {
      "application/vnd.jupyter.widget-view+json": {
       "model_id": "c5752e13270748fe9c5b9e10db423f85",
       "version_major": 2,
       "version_minor": 0
      },
      "text/plain": [
       "Renderer(camera=PerspectiveCamera(children=(DirectionalLight(color='white', intensity=0.6, position=(5.0, -23.…"
      ]
     },
     "metadata": {},
     "output_type": "display_data"
    },
    {
     "data": {
      "text/plain": [
       "<meshplot.Viewer.Viewer at 0x1dc752cc5b0>"
      ]
     },
     "execution_count": 14,
     "metadata": {},
     "output_type": "execute_result"
    }
   ],
   "source": [
    "# MLS method 1, matrix operation\n",
    "# solve DBX = b_arr for each grid vertex and then tell if BX>0 (outside)\n",
    "# D is a diagonal matrix of weights\n",
    "# DBX should be a projection of b_arr on plane DB\n",
    "# X = (B_T B X)-1 B_T b_arr\n",
    "grid_v_fval_arr = np.zeros(grid_v_num)   \n",
    "for i in range(grid_v_num):\n",
    "    # each grid vertex\n",
    "    close_points = get_close_points_ids(grid_vertices[i], constraint_v_coord_arr, wendland_h)\n",
    "    if (len(close_points) < poly_coeff_num*2):\n",
    "        grid_v_fval_arr[i] = 50 # any positive value, means outside\n",
    "    else:\n",
    "        B = np.zeros((len(close_points), poly_coeff_num))\n",
    "        DIAG = np.zeros((len(close_points), len(close_points)))\n",
    "        b_arr = np.zeros((len(close_points), 1))    \n",
    "        for j in range(len(close_points)):\n",
    "            r = np.linalg.norm(grid_vertices[i] - constraint_v_coord_arr[close_points[j]])\n",
    "            DIAG[j][j] = wendland(r)\n",
    "            B[j] = get_poly_terms(constraint_v_coord_arr[close_points[j]])\n",
    "            b_arr[j] = constraint_fval_arr[close_points[j]]\n",
    "        A = np.dot(np.dot(np.transpose(B), DIAG), B)\n",
    "        C = np.dot(np.dot(np.transpose(B), DIAG), b_arr)\n",
    "        X = np.linalg.solve(A, C)\n",
    "        for j in range(len(close_points)):\n",
    "            grid_v_fval_arr[i] += np.dot(B[j], X)\n",
    "ind = np.zeros_like(grid_v_fval_arr)\n",
    "ind[grid_v_fval_arr >= 0] = 1\n",
    "ind[grid_v_fval_arr < 0] = -1\n",
    "mp.plot(grid_vertices, c=ind, shading={\"point_size\": 8,\"width\": 800, \"height\": 800})"
   ]
  },
  {
   "cell_type": "code",
   "execution_count": 13,
   "metadata": {},
   "outputs": [],
   "source": [
    "# MLS method 2, DEPRECATED\n",
    "# try to build MLS equations by elements instead of too many matrix operations\n",
    "\n",
    "# # get f val for each grid vertex (different f)\n",
    "# grid_v_fval_arr = np.zeros(grid_v_num, dtype = np.float64)\n",
    "# for grid_v_i in range(grid_v_num):\n",
    "#     grid_v_coord = grid_vertices[grid_v_i]\n",
    "#     close_points_ids = get_close_points_ids(grid_v_coord, constraint_v_coord_arr, wendland_h)\n",
    "#     close_point_num = close_points_ids.shape[0]\n",
    "#     if(close_point_num < 2 * poly_coeff_num):\n",
    "#         grid_v_fval_arr[grid_v_i] = 1.0 # any positive value (means outside)\n",
    "#         continue\n",
    "#     # solve the MLS derivative equations of matrix\n",
    "# #     print(\"close_points_ids: \", close_points_ids)\n",
    "#     weight_arr = np.zeros(close_point_num, dtype = np.float64)\n",
    "#     close_v_terms = np.zeros((close_point_num, poly_coeff_num), dtype = np.float64)\n",
    "#     close_v_constraint_vals = np.zeros(close_point_num, dtype = np.float64)\n",
    "#     for i in range(close_point_num):\n",
    "#         close_v_id = close_points_ids[i]\n",
    "#         close_v_coord = constraint_v_coord_arr[close_v_id]\n",
    "# #         print(\"shape of constraint_v_coord_arr: \", constraint_v_coord_arr.shape)\n",
    "# #         print(\"close_v_coord: \", close_v_coord)\n",
    "#         close_v_terms[i] = get_poly_terms(close_v_coord)\n",
    "#         close_v_constraint_vals[i] = constraint_fval_arr[close_v_id]\n",
    "#         weight_arr[i] = wendland(np.linalg.norm(grid_v_coord - close_v_coord))\n",
    "# #     print(\"weight_arr: \", weight_arr)\n",
    "#     # solve AX = B\n",
    "#     mat_a = np.zeros((poly_coeff_num, poly_coeff_num), dtype = np.float64)\n",
    "#     arr_b = np.zeros(poly_coeff_num, dtype = np.float64)\n",
    "#     for i in range(poly_coeff_num):\n",
    "#        a_line = np.zeros((poly_coeff_num), dtype = np.float64)\n",
    "#        b_element = 0.0\n",
    "#        for j in range(close_point_num):\n",
    "#            a_line += weight_arr[j] * close_v_terms[j][i] *close_v_terms[j]\n",
    "#            b_element += weight_arr[j] * close_v_constraint_vals[j] * close_v_terms[j][i]\n",
    "#        mat_a[i] = a_line\n",
    "#        arr_b[i] = b_element\n",
    "#     count += 1\n",
    "# #     print(\"mat_a\", mat_a)\n",
    "# #     print(\"arr_b\", arr_b)\n",
    "# coefficients = np.linalg.solve(mat_a, arr_b)\n",
    "# grid_v_terms = get_poly_terms(grid_v_coord)\n",
    "# grid_v_fval_arr[grid_v_i] = np.multiply(coefficients, grid_v_terms)\n",
    "    \n",
    "\n",
    "# # Treshold fx to visualize inside outside\n",
    "# print(count)\n",
    "# ind = np.zeros_like(grid_v_fval_arr)\n",
    "# ind[grid_v_fval_arr >= 0] = 1\n",
    "# ind[grid_v_fval_arr < 0] = -1\n",
    "# print(np.argwhere(grid_v_fval_arr >= 0).shape)\n",
    "# print(np.argwhere(grid_v_fval_arr < 0).shape)\n",
    "# # mp.plot(grid_vertices, c = ind, shading={\"point_size\": 8,\"width\": 800, \"height\": 800})"
   ]
  },
  {
   "cell_type": "markdown",
   "metadata": {},
   "source": [
    "# Implementing a spatial index to accelerate neighbor calculations"
   ]
  },
  {
   "cell_type": "code",
   "execution_count": 12,
   "metadata": {},
   "outputs": [],
   "source": [
    "# reference to the cube mapping of tet_grid function\n",
    "# cube (i,j,k) to cube id, cube id to the vertices in it\n",
    "\n",
    "mmin =  min_coordinate - 0.05 * diagonal_len\n",
    "mmax =  max_coordinate + 0.05 * diagonal_len\n",
    "delta = mmax-mmin\n",
    "\n",
    "nx = n\n",
    "ny = n\n",
    "nz = n\n",
    "\n",
    "deltax = delta[0]/(nx-1)\n",
    "deltay = delta[1]/(ny-1)\n",
    "deltaz = delta[2]/(nz-1)\n",
    "\n",
    "# cube triple to cube id\n",
    "cube_mapping = -np.ones((nx-1, ny-1, nz-1), dtype=np.int64)\n",
    "\n",
    "index = 0\n",
    "for i in range(nx-1):\n",
    "    for j in range(ny-1):\n",
    "        for k in range(nz-1):\n",
    "            cube_mapping[i, j, k] = index\n",
    "            index += 1\n",
    "\n",
    "cube_to_vertice_ids = []\n",
    "for i in range((nx-1)*(ny-1)*(nz-1)):\n",
    "    cube_to_vertice_ids.append([])\n",
    "\n",
    "vertices = pi\n",
    "for v_id in range(v_num):\n",
    "    v_coord = vertices[v_id]\n",
    "    cube_x = int((v_coord[0] - mmin[0])/deltax)\n",
    "    cube_y = int((v_coord[1] - mmin[1])/deltay)\n",
    "    cube_z = int((v_coord[2] - mmin[2])/deltaz)\n",
    "    cube_id = cube_mapping[cube_x, cube_y, cube_z]\n",
    "    cube_to_vertice_ids[cube_id].append(v_id)\n",
    "    \n",
    "d_triples = []\n",
    "a = [-1, 0, 1]\n",
    "for i in range(3):\n",
    "    for j in range(3):\n",
    "        for k in range(3):\n",
    "            d_triples.append([a[i], a[j], a[k]])\n",
    "              \n",
    "# new find_closed_point of constraints\n",
    "def find_closed_point(_point, points = None):\n",
    "    v_ids_probe = []\n",
    "    cube_x = int((_point[0] - mmin[0])/deltax)\n",
    "    cube_y = int((_point[1] - mmin[1])/deltay)\n",
    "    cube_z = int((_point[2] - mmin[2])/deltaz)\n",
    "    cube_triple = [cube_x, cube_y, cube_z]\n",
    "\n",
    "    weight = 0\n",
    "    while(len(v_ids_probe) == 0):\n",
    "        weight += 1\n",
    "        for i in range(27):\n",
    "            tmp_cube_triple = np.array(cube_triple) + np.array(d_triples[i]) * weight\n",
    "            # boundary \n",
    "            if(np.min(tmp_cube_triple) >= 0 and np.min(np.array([nx-1, ny-1, nz-1])-np.array(tmp_cube_triple)) >=0):\n",
    "                tmp_cube_id = cube_mapping[tmp_cube_triple[0]][tmp_cube_triple[1]][tmp_cube_triple[2]]\n",
    "                for v_id in cube_to_vertice_ids[tmp_cube_id]:\n",
    "                    v_ids_probe.append(v_id)\n",
    "    points = vertices[v_ids_probe]\n",
    "    distances = np.linalg.norm(points - _point, axis = 1)\n",
    "    i = np.argmin(distances)\n",
    "    return v_ids_probe[i]\n",
    "\n",
    "# new get_close_points_ids for MLS\n",
    "def get_close_points_ids(_point, _points, _h):\n",
    "    v_ids_probe = []\n",
    "    cube_x = int((_point[0] - mmin[0])/deltax)\n",
    "    cube_y = int((_point[1] - mmin[1])/deltay)\n",
    "    cube_z = int((_point[2] - mmin[2])/deltaz)\n",
    "    cube_triple = [cube_x, cube_y, cube_z]\n",
    "    dx = int(_h/deltax)\n",
    "    dy = int(_h/deltay)\n",
    "    dz = int(_h/deltaz)\n",
    "    for i in range(max(cube_x - dx, 0), min(cube_x + dx, nx -1)):\n",
    "        for j in range(max(cube_y - dy, 0), min(cube_y + dy, ny -1)):\n",
    "            for k in range(max(cube_z - dz, 0), min(cube_z + dz, nz -1)):\n",
    "                tmp_cube_id = cube_mapping[i,j,k]\n",
    "                for v_id in cube_to_vertice_ids[tmp_cube_id]:\n",
    "                    v_ids_probe.append(v_id)\n",
    "    return np.argwhere(np.linalg.norm(_points - _point, axis = 1) < _h).ravel()\n",
    "\n",
    "## then re-run the last cell of \"Setting up Constraints\" and \"MLS Interpolation\""
   ]
  },
  {
   "cell_type": "markdown",
   "metadata": {},
   "source": [
    "# Marching to extract surface"
   ]
  },
  {
   "cell_type": "code",
   "execution_count": 15,
   "metadata": {},
   "outputs": [
    {
     "data": {
      "application/vnd.jupyter.widget-view+json": {
       "model_id": "d318b577e8b0496998b272ac8cbd2c5a",
       "version_major": 2,
       "version_minor": 0
      },
      "text/plain": [
       "Renderer(camera=PerspectiveCamera(children=(DirectionalLight(color='white', intensity=0.6, position=(5.2994623…"
      ]
     },
     "metadata": {},
     "output_type": "display_data"
    },
    {
     "data": {
      "text/plain": [
       "<meshplot.Viewer.Viewer at 0x1dc752424f0>"
      ]
     },
     "execution_count": 15,
     "metadata": {},
     "output_type": "execute_result"
    }
   ],
   "source": [
    "# Marcing tet to extract surface\n",
    "\n",
    "surface_v, surface_f, _, _ = igl.marching_tets(grid_vertices, T, grid_v_fval_arr, 0)\n",
    "mp.plot(surface_v, surface_f, shading={\"wireframe\": True})"
   ]
  },
  {
   "cell_type": "markdown",
   "metadata": {},
   "source": [
    "# Using a non-axis-aligned grid"
   ]
  },
  {
   "cell_type": "code",
   "execution_count": 27,
   "metadata": {},
   "outputs": [
    {
     "data": {
      "application/vnd.jupyter.widget-view+json": {
       "model_id": "5aaf89ad90fd4e909df78c80732291ca",
       "version_major": 2,
       "version_minor": 0
      },
      "text/plain": [
       "Renderer(camera=PerspectiveCamera(children=(DirectionalLight(color='white', intensity=0.6, position=(11.288000…"
      ]
     },
     "metadata": {},
     "output_type": "display_data"
    },
    {
     "data": {
      "text/plain": [
       "<meshplot.Viewer.Viewer at 0x265826d7130>"
      ]
     },
     "execution_count": 27,
     "metadata": {},
     "output_type": "execute_result"
    }
   ],
   "source": [
    "vertices1, faces1 = igl.read_triangle_mesh(\"data/luigi.off\")\n",
    "mp.plot(vertices1, shading={\"point_size\": 8})"
   ]
  },
  {
   "cell_type": "code",
   "execution_count": null,
   "metadata": {},
   "outputs": [],
   "source": [
    "v1_num = len(vertices1)\n",
    "# initial eps\n",
    "eps = 0.01 * diagonal_len\n",
    "# print(eps)\n",
    "\n",
    "# get v+ and v- for each vertex v\n",
    "constraint_v_coord_arr = np.zeros((3*v1_num, 3), dtype = np.float64)\n",
    "constraint_fval_arr = np.zeros(3*v_num, dtype = np.float64)\n",
    "constraint_color_arr = np.zeros((3*v_num, 3), dtype = np.float64) #RGB\n",
    "for v_id in range(v_num):\n",
    "    coord = pi[v_id]\n",
    "    norm = ni[v_id]\n",
    "    constraint_v_coord_arr[3*v_id] = coord\n",
    "    constraint_fval_arr[3*v_id] = 0.0\n",
    "    constraint_color_arr[3*v_id] = [0.0, 0.0, 1.0]\n",
    "    # for v+\n",
    "    eps = update_eps(eps, v_id, coord, norm)\n",
    "    constraint_v_coord_arr[3*v_id + 1] = coord + eps * norm\n",
    "    constraint_fval_arr[3*v_id + 1] = eps\n",
    "    constraint_color_arr[3*v_id + 1] = [1.0, 0.0, 0.0]\n",
    "    # for v-\n",
    "    eps = update_eps(eps, v_id, coord, -norm)\n",
    "    constraint_v_coord_arr[3*v_id + 2] = coord - eps * norm\n",
    "    constraint_fval_arr[3*v_id + 2] = -eps\n",
    "    constraint_color_arr[3*v_id + 2] = [0.0, 1.0, 0.0]"
   ]
  },
  {
   "cell_type": "markdown",
   "metadata": {},
   "source": [
    "# Optional 1"
   ]
  },
  {
   "cell_type": "code",
   "execution_count": 9,
   "metadata": {},
   "outputs": [],
   "source": [
    "import numpy as np\n",
    "import igl\n",
    "import meshplot as mp\n",
    "import math\n",
    "import random\n",
    "import matplotlib.pyplot as plt"
   ]
  },
  {
   "cell_type": "markdown",
   "metadata": {},
   "source": [
    "## Create 2-D Dataset"
   ]
  },
  {
   "cell_type": "code",
   "execution_count": 9,
   "metadata": {},
   "outputs": [
    {
     "data": {
      "image/png": "[encoded data removed]",
      "text/plain": [
       "<Figure size 432x288 with 1 Axes>"
      ]
     },
     "metadata": {
      "needs_background": "light"
     },
     "output_type": "display_data"
    }
   ],
   "source": [
    "def create_2d_boundary():\n",
    "    vnum = 100\n",
    "    radius = 1.0\n",
    "    dtheta = 2*math.pi/vnum\n",
    "    rx = [0.5 + random.uniform(0,1)/2 for i in range(vnum)]\n",
    "    vertices_a = np.zeros((vnum, 2))\n",
    "    for vi in range(vnum):\n",
    "        vertices_a[vi][0] = rx[vi]*math.cos(dtheta*vi)\n",
    "        vertices_a[vi][1] = rx[vi]*math.sin(dtheta*vi)\n",
    "    window_len = 3\n",
    "    for vi in range(vnum):\n",
    "        x = 0\n",
    "        y = 0\n",
    "        for j in range(window_len):\n",
    "            x += vertices_a[(vi+j)%vnum][0]\n",
    "            y += vertices_a[(vi+j)%vnum][1]\n",
    "        vertices[vi][0] = x/window_len\n",
    "        vertices[vi][1] = y/window_len\n",
    "    plt.plot(vertices[:,0], vertices[:, 1])\n",
    "    np.savetxt('data/2dboundary.txt', vertices, delimiter=' ')\n",
    "\n",
    "create_2d_boundary()"
   ]
  },
  {
   "cell_type": "markdown",
   "metadata": {},
   "source": [
    "## Normal Constraints"
   ]
  },
  {
   "cell_type": "code",
   "execution_count": null,
   "metadata": {},
   "outputs": [],
   "source": []
  },
  {
   "cell_type": "markdown",
   "metadata": {},
   "source": [
    "# Assign 2 Optional 1"
   ]
  },
  {
   "cell_type": "markdown",
   "metadata": {},
   "source": [
    "## Create 2-D Dataset"
   ]
  },
  {
   "cell_type": "code",
   "execution_count": null,
   "metadata": {},
   "outputs": [],
   "source": [
    "import numpy as np\n",
    "import igl\n",
    "import meshplot as mp\n",
    "import math\n",
    "import random\n",
    "import matplotlib.pyplot as plt"
   ]
  },
  {
   "cell_type": "code",
   "execution_count": null,
   "metadata": {},
   "outputs": [
    {
     "data": {
      "image/png": "[encoded data removed]",
      "text/plain": [
       "<Figure size 432x288 with 1 Axes>"
      ]
     },
     "metadata": {},
     "output_type": "display_data"
    }
   ],
   "source": [
    "def create_2d_boundary():\n",
    "    vnum = 200\n",
    "    radius = 1.0\n",
    "    dtheta = 2*math.pi/vnum\n",
    "    rx = [0.5 + random.uniform(0,1)/2 for i in range(vnum)]\n",
    "    vertices_a = np.zeros((vnum, 2))\n",
    "    vertices = np.zeros((vnum, 2))\n",
    "    for vi in range(vnum):\n",
    "        vertices_a[vi][0] = rx[vi]*math.cos(dtheta*vi)\n",
    "        vertices_a[vi][1] = rx[vi]*math.sin(dtheta*vi)\n",
    "    window_len = 5\n",
    "    for vi in range(vnum):\n",
    "        x = 0\n",
    "        y = 0\n",
    "        for j in range(window_len):\n",
    "            x += vertices_a[(vi+j)%vnum][0]\n",
    "            y += vertices_a[(vi+j)%vnum][1]\n",
    "        vertices[vi][0] = x/window_len\n",
    "        vertices[vi][1] = y/window_len\n",
    "    plt.plot(vertices[:,0], vertices[:, 1])\n",
    "    np.savetxt('data/2dboundary.txt', vertices, delimiter=' ')\n",
    "    np.savetxt('data/2dnorm.txt', vertices_a, delimiter=' ')\n",
    "\n",
    "# create_2d_boundary()"
   ]
  },
  {
   "cell_type": "code",
   "execution_count": null,
   "metadata": {},
   "outputs": [
    {
     "name": "stdout",
     "output_type": "stream",
     "text": [
      "2.427553742223739\n"
     ]
    },
    {
     "data": {
      "image/png": "[encoded data removed]",
      "text/plain": [
       "<Figure size 432x288 with 1 Axes>"
      ]
     },
     "metadata": {},
     "output_type": "display_data"
    }
   ],
   "source": [
    "vertices = np.loadtxt(\"data/2dboundary.txt\")\n",
    "norms = np.loadtxt(\"data/2dnorm.txt\")\n",
    "vnum = vertices.shape[0]\n",
    "plt.plot(vertices[:,0], vertices[:, 1], marker = 'o' ,linestyle=\"\")\n",
    "max_coordinate = np.max(vertices, axis = 0)\n",
    "min_coordinate = np.min(vertices, axis = 0)\n",
    "diagonal_len = np.linalg.norm(max_coordinate - min_coordinate)\n",
    "print(diagonal_len)"
   ]
  },
  {
   "cell_type": "markdown",
   "metadata": {},
   "source": [
    "## Previous Constraints"
   ]
  },
  {
   "cell_type": "code",
   "execution_count": null,
   "metadata": {},
   "outputs": [
    {
     "data": {
      "application/vnd.jupyter.widget-view+json": {
       "model_id": "c5a2aaeca86c4961afc48b4620595b1b",
       "version_major": 2,
       "version_minor": 0
      },
      "text/plain": [
       "Renderer(camera=PerspectiveCamera(children=(DirectionalLight(color='white', intensity=0.6, position=(-0.047627…"
      ]
     },
     "metadata": {},
     "output_type": "display_data"
    },
    {
     "data": {
      "text/plain": [
       "<meshplot.Viewer.Viewer at 0x1650ae7a0d0>"
      ]
     },
     "metadata": {},
     "output_type": "display_data"
    }
   ],
   "source": [
    "# return id of closed point\n",
    "def find_closed_point(point, points):\n",
    "    # distances of each point\n",
    "    distances = np.linalg.norm(points - point, axis = 1)\n",
    "    return np.argmin(distances)\n",
    "\n",
    "# get appropriate eps for this point\n",
    "def update_eps(_eps, _x_id, _x_coord, _norm):\n",
    "    x_eps = _x_coord + _norm * _eps\n",
    "    if(find_closed_point(x_eps, vertices) == _x_id):\n",
    "        return _eps\n",
    "    else:\n",
    "        return update_eps(_eps/2, _x_id, _x_coord, _norm)\n",
    "\n",
    "# initial eps\n",
    "eps = 0.01 * diagonal_len\n",
    "# print(eps)\n",
    "\n",
    "# get v+ and v- for each vertex v\n",
    "constraint_v_coord_arr = np.zeros((3*vnum, 2), dtype = np.float64)\n",
    "constraint_fval_arr = np.zeros(3*vnum, dtype = np.float64)\n",
    "constraint_color_arr = np.zeros((3*vnum, 3), dtype = np.float64) #RGB\n",
    "for v_id in range(vnum):\n",
    "    coord = vertices[v_id]\n",
    "    norm = norms[v_id]\n",
    "    constraint_v_coord_arr[3*v_id] = coord\n",
    "    constraint_fval_arr[3*v_id] = 0.0\n",
    "    constraint_color_arr[3*v_id] = [0.0, 0.0, 1.0]\n",
    "    # for v+\n",
    "    eps = update_eps(eps, v_id, coord, norm)\n",
    "    constraint_v_coord_arr[3*v_id + 1] = coord + eps * norm\n",
    "    constraint_fval_arr[3*v_id + 1] = eps\n",
    "    constraint_color_arr[3*v_id + 1] = [1.0, 0.0, 0.0]\n",
    "    # for v-\n",
    "    eps = update_eps(eps, v_id, coord, -norm)\n",
    "    constraint_v_coord_arr[3*v_id + 2] = coord - eps * norm\n",
    "    constraint_fval_arr[3*v_id + 2] = -eps\n",
    "    constraint_color_arr[3*v_id + 2] = [0.0, 1.0, 0.0]\n",
    "\n",
    "# plot constraint points\n",
    "constrs_3d = np.hstack([constraint_v_coord_arr, np.zeros((3*vnum,1))])\n",
    "mp.plot(constrs_3d, c = constraint_color_arr, shading={\"point_size\":0.1})"
   ]
  },
  {
   "cell_type": "markdown",
   "metadata": {},
   "source": [
    "## Normal Constraints"
   ]
  },
  {
   "cell_type": "code",
   "execution_count": null,
   "metadata": {},
   "outputs": [],
   "source": []
  },
  {
   "cell_type": "markdown",
   "metadata": {},
   "source": [
    "## MLS"
   ]
  },
  {
   "cell_type": "code",
   "execution_count": null,
   "metadata": {},
   "outputs": [
    {
     "data": {
      "application/vnd.jupyter.widget-view+json": {
       "model_id": "e67d1484e9314a60b48d67382ff040c3",
       "version_major": 2,
       "version_minor": 0
      },
      "text/plain": [
       "Renderer(camera=PerspectiveCamera(children=(DirectionalLight(color='white', intensity=0.6, position=(0.8688436…"
      ]
     },
     "metadata": {},
     "output_type": "display_data"
    }
   ],
   "source": [
    "def build_grids(n, mmin, mmax):\n",
    "    nx = n[0]\n",
    "    ny = n[1]\n",
    "    delta = mmax-mmin\n",
    "    deltax = delta[0]/(nx-1)\n",
    "    deltay = delta[1]/(ny-1)\n",
    "    grids = np.zeros((nx*ny, 2))\n",
    "    index = 0\n",
    "    for i in range(nx):\n",
    "        for j in range(ny):\n",
    "            grids[index, :] = [i*deltax, j*deltay]\n",
    "            index += 1\n",
    "    return grids\n",
    "\n",
    "poly_degree = 2\n",
    "def get_poly_terms(_coord):\n",
    "    x = _coord[0]\n",
    "    y = _coord[1]\n",
    "    if(poly_degree == 0):\n",
    "        return np.array([1.0])\n",
    "    elif(poly_degree == 1):\n",
    "        return np.array([1.0, x, y])\n",
    "    elif(poly_degree == 2):\n",
    "        return np.array([1.0, x, y, x*x, y*y, x*y])\n",
    "    print(\"error: incorrect poly_degree\")\n",
    "    return None\n",
    "\n",
    "poly_coeff_num = 0\n",
    "if(poly_degree == 0):\n",
    "    poly_coeff_num = 1\n",
    "elif(poly_degree == 1):\n",
    "    poly_coeff_num = 3\n",
    "elif(poly_degree == 2):\n",
    "    poly_coeff_num = 6\n",
    "\n",
    "# wendland weight function\n",
    "wendland_h = 0.1\n",
    "def wendland(_r):\n",
    "    return pow(1 - _r/wendland_h, 4)*(4*_r/wendland_h + 1)\n",
    "\n",
    "\n",
    "mmin =  min_coordinate - 0.05 * diagonal_len\n",
    "mmax =  max_coordinate + 0.05 * diagonal_len\n",
    "delta = mmax-mmin\n",
    "n=[100, 100]\n",
    "nx = n[0]\n",
    "ny = n[1]\n",
    "\n",
    "deltax = delta[0]/(nx-1)\n",
    "deltay = delta[1]/(ny-1)\n",
    "\n",
    "# cube triple to cube id\n",
    "cube_mapping = -np.ones((nx-1, ny-1), dtype=np.int64)\n",
    "\n",
    "index = 0\n",
    "for i in range(nx-1):\n",
    "    for j in range(ny-1):\n",
    "        cube_mapping[i, j] = index\n",
    "        index += 1\n",
    "\n",
    "cube_to_vertice_ids = []\n",
    "for i in range((nx-1)*(ny-1)):\n",
    "    cube_to_vertice_ids.append([])\n",
    "\n",
    "for v_id in range(vnum):\n",
    "    v_coord = vertices[v_id]\n",
    "    cube_x = int((v_coord[0] - mmin[0])/deltax)\n",
    "    cube_y = int((v_coord[1] - mmin[1])/deltay)\n",
    "    cube_id = cube_mapping[cube_x, cube_y]\n",
    "    cube_to_vertice_ids[cube_id].append(v_id)\n",
    "    \n",
    "d_triples = []\n",
    "a = [-1, 0, 1]\n",
    "for i in range(3):\n",
    "    for j in range(3):\n",
    "            d_triples.append([a[i], a[j]])\n",
    "              \n",
    "# new find_closed_point of constraints\n",
    "def find_closed_point(_point, points = None):\n",
    "    v_ids_probe = []\n",
    "    cube_x = int((_point[0] - mmin[0])/deltax)\n",
    "    cube_y = int((_point[1] - mmin[1])/deltay)\n",
    "    cube_triple = [cube_x, cube_y]\n",
    "\n",
    "    weight = 0\n",
    "    while(len(v_ids_probe) == 0):\n",
    "        weight += 1\n",
    "        for i in range(9):\n",
    "            tmp_cube_triple = np.array(cube_triple) + np.array(d_triples[i]) * weight\n",
    "            # boundary \n",
    "            if(np.min(tmp_cube_triple) >= 0 and np.min(np.array([nx-1, ny-1])-np.array(tmp_cube_triple)) >=0):\n",
    "                tmp_cube_id = cube_mapping[tmp_cube_triple[0]][tmp_cube_triple[1]]\n",
    "                for v_id in cube_to_vertice_ids[tmp_cube_id]:\n",
    "                    v_ids_probe.append(v_id)\n",
    "    points = vertices[v_ids_probe]\n",
    "    distances = np.linalg.norm(points - _point, axis = 1)\n",
    "    i = np.argmin(distances)\n",
    "    return v_ids_probe[i]\n",
    "\n",
    "# new get_close_points_ids for MLS\n",
    "def get_close_points_ids(_point, _points, _h):\n",
    "    v_ids_probe = []\n",
    "    cube_x = int((_point[0] - mmin[0])/deltax)\n",
    "    cube_y = int((_point[1] - mmin[1])/deltay)\n",
    "    cube_triple = [cube_x, cube_y]\n",
    "    dx = int(_h/deltax)\n",
    "    dy = int(_h/deltay)\n",
    "    for i in range(max(cube_x - dx, 0), min(cube_x + dx, nx -1)):\n",
    "        for j in range(max(cube_y - dy, 0), min(cube_y + dy, ny -1)):\n",
    "            tmp_cube_id = cube_mapping[i,j]\n",
    "            for v_id in cube_to_vertice_ids[tmp_cube_id]:\n",
    "                v_ids_probe.append(v_id)\n",
    "    return np.argwhere(np.linalg.norm(_points - _point, axis = 1) < _h).ravel()\n",
    "\n",
    "\n",
    "def calc_grid(grid_vertices, constraint_v_coord_arr, constraint_fval_arr):\n",
    "    grid_v_num = grid_vertices.shape[0]\n",
    "    grid_v_fval_arr = np.zeros(grid_v_num)   \n",
    "    for i in range(grid_v_num):\n",
    "        # each grid vertex\n",
    "        close_points = get_close_points_ids(grid_vertices[i], constraint_v_coord_arr, wendland_h)\n",
    "        if (len(close_points) < poly_coeff_num*2):\n",
    "            grid_v_fval_arr[i] = 50 # any positive value, means outside\n",
    "        else:\n",
    "            B = np.zeros((len(close_points), poly_coeff_num))\n",
    "            DIAG = np.zeros((len(close_points), len(close_points)))\n",
    "            b_arr = np.zeros((len(close_points), 1))    \n",
    "            for j in range(len(close_points)):\n",
    "                r = np.linalg.norm(grid_vertices[i] - constraint_v_coord_arr[close_points[j]])\n",
    "                DIAG[j][j] = wendland(r)\n",
    "                B[j] = get_poly_terms(constraint_v_coord_arr[close_points[j]])\n",
    "                b_arr[j] = constraint_fval_arr[close_points[j]]\n",
    "            A = np.dot(np.dot(np.transpose(B), DIAG), B)\n",
    "            C = np.dot(np.dot(np.transpose(B), DIAG), b_arr)\n",
    "            X = np.linalg.solve(A, C)\n",
    "            for j in range(len(close_points)):\n",
    "                grid_v_fval_arr[i] += np.dot(B[j], X)\n",
    "    ind = np.zeros_like(grid_v_fval_arr)\n",
    "    ind[grid_v_fval_arr >= 0] = 1\n",
    "    ind[grid_v_fval_arr < 0] = -1\n",
    "    mp.plot(grid_vertices, c=ind, shading={\"point_size\": 0.05,\"width\": 800, \"height\": 800})\n",
    "\n",
    "grid_vertices = build_grids(n, min_coordinate, max_coordinate)\n",
    "calc_grid(grid_vertices, constraint_v_coord_arr, constraint_fval_arr)"
   ]
  },
  {
   "cell_type": "code",
   "execution_count": null,
   "metadata": {},
   "outputs": [],
   "source": []
  },
  {
   "cell_type": "code",
   "execution_count": null,
   "metadata": {},
   "outputs": [],
   "source": []
  }
 ],
 "metadata": {
  "kernelspec": {
   "display_name": "Python 3 (ipykernel)",
   "language": "python",
   "name": "python3"
  },
  "language_info": {
   "codemirror_mode": {
    "name": "ipython",
    "version": 3
   },
   "file_extension": ".py",
   "mimetype": "text/x-python",
   "name": "python",
   "nbconvert_exporter": "python",
   "pygments_lexer": "ipython3",
   "version": "3.8.12"
  }
 },
 "nbformat": 4,
 "nbformat_minor": 4
}
