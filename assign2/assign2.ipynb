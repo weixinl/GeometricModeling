{
 "cells": [
  {
   "cell_type": "code",
   "execution_count": 1,
   "metadata": {
    "scrolled": true
   },
   "outputs": [],
   "source": [
    "import numpy as np\n",
    "import igl\n",
    "import meshplot as mp"
   ]
  },
  {
   "cell_type": "code",
   "execution_count": 2,
   "metadata": {
    "scrolled": true
   },
   "outputs": [],
   "source": [
    "# Utility function to generate a tet grid\n",
    "# n is a 3-tuple with the number of cell in every direction\n",
    "# mmin/mmax are the grid bounding box corners\n",
    "\n",
    "def tet_grid(n, mmin, mmax):\n",
    "    nx = n[0]\n",
    "    ny = n[1]\n",
    "    nz = n[2]\n",
    "    \n",
    "    delta = mmax-mmin\n",
    "    \n",
    "    deltax = delta[0]/(nx-1)\n",
    "    deltay = delta[1]/(ny-1)\n",
    "    deltaz = delta[2]/(nz-1)\n",
    "    \n",
    "    T = np.zeros(((nx-1)*(ny-1)*(nz-1)*6, 4), dtype=np.int64)\n",
    "    V = np.zeros((nx*ny*nz, 3))\n",
    "\n",
    "    mapping = -np.ones((nx, ny, nz), dtype=np.int64)\n",
    "\n",
    "\n",
    "    index = 0\n",
    "    for i in range(nx):\n",
    "        for j in range(ny):\n",
    "            for k in range(nz):\n",
    "                mapping[i, j, k] = index\n",
    "                V[index, :] = [i*deltax, j*deltay, k*deltaz]\n",
    "                index += 1\n",
    "    assert(index == V.shape[0])\n",
    "    \n",
    "    tets = np.array([\n",
    "        [0,1,3,4],\n",
    "        [5,2,6,7],\n",
    "        [4,1,5,3],\n",
    "        [4,3,7,5],\n",
    "        [3,1,5,2],\n",
    "        [2,3,7,5]\n",
    "    ])\n",
    "    \n",
    "    index = 0\n",
    "    for i in range(nx-1):\n",
    "        for j in range(ny-1):\n",
    "            for k in range(nz-1):\n",
    "                indices = [\n",
    "                    (i,   j,   k),\n",
    "                    (i+1, j,   k),\n",
    "                    (i+1, j+1, k),\n",
    "                    (i,   j+1, k),\n",
    "\n",
    "                    (i,   j,   k+1),\n",
    "                    (i+1, j,   k+1),\n",
    "                    (i+1, j+1, k+1),\n",
    "                    (i,   j+1, k+1),\n",
    "                ]\n",
    "                \n",
    "                for t in range(tets.shape[0]):\n",
    "                    tmp = [mapping[indices[ii]] for ii in tets[t, :]]\n",
    "                    T[index, :]=tmp\n",
    "                    index += 1\n",
    "                    \n",
    "    assert(index == T.shape[0])\n",
    "    \n",
    "    V += mmin\n",
    "    return V, T"
   ]
  },
  {
   "cell_type": "code",
   "execution_count": 3,
   "metadata": {},
   "outputs": [],
   "source": [
    "# mp(V,T)"
   ]
  },
  {
   "cell_type": "markdown",
   "metadata": {},
   "source": [
    "# Reading point cloud"
   ]
  },
  {
   "cell_type": "code",
   "execution_count": 4,
   "metadata": {},
   "outputs": [
    {
     "name": "stderr",
     "output_type": "stream",
     "text": [
      "E:\\Programs\\Anaconoda\\envs\\py38\\lib\\site-packages\\jupyter_client\\session.py:716: UserWarning: Message serialization failed with:\n",
      "Out of range float values are not JSON compliant\n",
      "Supporting this message is deprecated in jupyter-client 7, please make sure your message is JSON-compliant\n",
      "  content = self.pack(content)\n"
     ]
    },
    {
     "data": {
      "application/vnd.jupyter.widget-view+json": {
       "model_id": "12146dd5f3354cffac514ec009f129af",
       "version_major": 2,
       "version_minor": 0
      },
      "text/plain": [
       "Renderer(camera=PerspectiveCamera(children=(DirectionalLight(color='white', intensity=0.6, position=(5.0, -23.…"
      ]
     },
     "metadata": {},
     "output_type": "display_data"
    },
    {
     "data": {
      "text/plain": [
       "<meshplot.Viewer.Viewer at 0x27d26cd1160>"
      ]
     },
     "execution_count": 4,
     "metadata": {},
     "output_type": "execute_result"
    }
   ],
   "source": [
    "# pi is point array, v is face array\n",
    "pi, v = igl.read_triangle_mesh(\"data/cat.off\")\n",
    "pi /= 10\n",
    "ni = igl.per_vertex_normals(pi, v)\n",
    "mp.plot(pi, shading={\"point_size\": 8})"
   ]
  },
  {
   "cell_type": "markdown",
   "metadata": {},
   "source": [
    "# Setting up the Constraints"
   ]
  },
  {
   "cell_type": "code",
   "execution_count": 6,
   "metadata": {},
   "outputs": [
    {
     "name": "stdout",
     "output_type": "stream",
     "text": [
      "max_coordinate: [32.7 16.7  5.8]\n",
      "min_coordinate: [-22.7 -63.7 -99. ]\n",
      "v_num 366\n"
     ]
    }
   ],
   "source": [
    "max_coordinate = np.max(pi, axis = 0)\n",
    "min_coordinate = np.min(pi, axis = 0)\n",
    "print(\"max_coordinate: \"+ str(max_coordinate))\n",
    "print(\"min_coordinate: \"+ str(min_coordinate))\n",
    "\n",
    "v_num = pi.shape[0]\n",
    "print(\"v_num\", v_num)"
   ]
  },
  {
   "cell_type": "code",
   "execution_count": 7,
   "metadata": {},
   "outputs": [],
   "source": [
    "# return id of closed point\n",
    "def find_closed_point(point, points):\n",
    "    # distances of each point\n",
    "    distances = np.linalg.norm(points - point, axis = 1)\n",
    "    return np.argmin(distances)"
   ]
  },
  {
   "cell_type": "code",
   "execution_count": 10,
   "metadata": {},
   "outputs": [],
   "source": [
    "# get appropriate eps for this point\n",
    "def update_eps(_eps, _x_id, _x_coord, _norm):\n",
    "    x_eps = _x_coord + _norm * _eps\n",
    "    if(find_closed_point(x_eps, pi) == _x_id):\n",
    "        return _eps\n",
    "    else:\n",
    "        return update_eps(_eps/2, _x_id, _x_coord, _norm)\n",
    "    "
   ]
  },
  {
   "cell_type": "code",
   "execution_count": 12,
   "metadata": {},
   "outputs": [],
   "source": [
    "# initial eps\n",
    "eps = 0.01 * igl.bounding_box_diagonal(pi)\n",
    "# print(eps)\n",
    "\n",
    "# get v+ and v- for each vertex v\n",
    "constraint_v_coord_arr = np.zeros((3*v_num, 3), dtype = np.float64)\n",
    "constraint_fval_arr = np.zeros(3*v_num, dtype = np.float64)\n",
    "constraint_color_arr = np.zeros((3*v_num, 3), dtype = np.float64) #RGB\n",
    "for v_id in range(v_num):\n",
    "    coord = pi[v_id]\n",
    "    norm = ni[v_id]\n",
    "    constraint_v_coord_arr[3*v_id] = coord\n",
    "    constraint_fval_arr[3*v_id] = 0.0\n",
    "    constraint_color_arr[3*v_id] = [0.0, 0.0, 1.0]\n",
    "    # for v+\n",
    "    eps = update_eps(eps, v_id, coord, norm)\n",
    "    constraint_v_coord_arr[3*v_id + 1] = coord + eps * norm\n",
    "    constraint_fval_arr[3*v_id + 1] = eps\n",
    "    constraint_color_arr[3*v_id + 1] = [1.0, 0.0, 0.0]\n",
    "    # for v-\n",
    "    eps = update_eps(eps, v_id, coord, -norm)\n",
    "    constraint_v_coord_arr[3*v_id + 2] = coord - eps * norm\n",
    "    constraint_fval_arr[3*v_id + 2] = -eps\n",
    "    constraint_color_arr[3*v_id + 2] = [0.0, 1.0, 0.0]"
   ]
  },
  {
   "cell_type": "code",
   "execution_count": 14,
   "metadata": {},
   "outputs": [
    {
     "data": {
      "application/vnd.jupyter.widget-view+json": {
       "model_id": "d7c742ac205e4275ba46344842f6c681",
       "version_major": 2,
       "version_minor": 0
      },
      "text/plain": [
       "Renderer(camera=PerspectiveCamera(children=(DirectionalLight(color='white', intensity=0.6, position=(5.0120944…"
      ]
     },
     "metadata": {},
     "output_type": "display_data"
    },
    {
     "data": {
      "text/plain": [
       "<meshplot.Viewer.Viewer at 0x27d27830af0>"
      ]
     },
     "execution_count": 14,
     "metadata": {},
     "output_type": "execute_result"
    }
   ],
   "source": [
    "mp.plot(constraint_v_coord_arr, c = constraint_color_arr, shading={\"point_size\": 8})"
   ]
  },
  {
   "cell_type": "markdown",
   "metadata": {},
   "source": [
    "# MLS function"
   ]
  },
  {
   "cell_type": "code",
   "execution_count": 9,
   "metadata": {
    "scrolled": true
   },
   "outputs": [
    {
     "name": "stdout",
     "output_type": "stream",
     "text": [
      "3.4641016151377544\n"
     ]
    }
   ],
   "source": [
    "# Parameters\n",
    "bbox_min = np.array([-1., -1., -1.])\n",
    "bbox_max = np.array([1., 1., 1.])\n",
    "bbox_diag = np.linalg.norm(bbox_max - bbox_min)\n",
    "# print(bbox_diag)\n",
    "n = 10"
   ]
  },
  {
   "cell_type": "code",
   "execution_count": 11,
   "metadata": {
    "scrolled": true
   },
   "outputs": [],
   "source": [
    "# Generate grid n x n x n\n",
    "\n",
    "x, T = tet_grid((n, n, n), bbox_min - 0.05 * bbox_diag, bbox_max + 0.05 * bbox_diag)\n",
    "\n",
    "#Compute implicit sphere function\n",
    "center = np.array([0., 0., 0.])\n",
    "radius = 1\n",
    "fx = np.linalg.norm(x-center, axis=1) - radius"
   ]
  },
  {
   "cell_type": "code",
   "execution_count": 12,
   "metadata": {},
   "outputs": [
    {
     "data": {
      "application/vnd.jupyter.widget-view+json": {
       "model_id": "bff43b0491fc429989766ec249ecde3a",
       "version_major": 2,
       "version_minor": 0
      },
      "text/plain": [
       "Renderer(camera=PerspectiveCamera(children=(DirectionalLight(color='white', intensity=0.6, position=(0.0, 0.0,…"
      ]
     },
     "metadata": {},
     "output_type": "display_data"
    },
    {
     "data": {
      "text/plain": [
       "<meshplot.Viewer.Viewer at 0x20ad0172d60>"
      ]
     },
     "execution_count": 12,
     "metadata": {},
     "output_type": "execute_result"
    }
   ],
   "source": [
    "# Treshold fx to visualize inside outside\n",
    "\n",
    "ind = np.zeros_like(fx)\n",
    "ind[fx >= 0] = 1\n",
    "ind[fx < 0] = -1\n",
    "mp.plot(x, c=ind, shading={\"point_size\": 0.1,\"width\": 800, \"height\": 800})"
   ]
  },
  {
   "cell_type": "markdown",
   "metadata": {},
   "source": [
    "# Marching to extract surface"
   ]
  },
  {
   "cell_type": "code",
   "execution_count": null,
   "metadata": {},
   "outputs": [],
   "source": [
    "# Marcing tet to extract surface\n",
    "\n",
    "sv, sf, _, _ = igl.marching_tets(x, T, fx, 0)\n",
    "mp.plot(sv, sf, shading={\"wireframe\": True})"
   ]
  },
  {
   "cell_type": "code",
   "execution_count": null,
   "metadata": {},
   "outputs": [],
   "source": []
  }
 ],
 "metadata": {
  "kernelspec": {
   "display_name": "Python 3 (ipykernel)",
   "language": "python",
   "name": "python3"
  },
  "language_info": {
   "codemirror_mode": {
    "name": "ipython",
    "version": 3
   },
   "file_extension": ".py",
   "mimetype": "text/x-python",
   "name": "python",
   "nbconvert_exporter": "python",
   "pygments_lexer": "ipython3",
   "version": "3.8.12"
  }
 },
 "nbformat": 4,
 "nbformat_minor": 4
}
