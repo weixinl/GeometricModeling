{
 "cells": [
  {
   "cell_type": "code",
   "execution_count": 1,
   "metadata": {
    "scrolled": true
   },
   "outputs": [],
   "source": [
    "import numpy as np\n",
    "import igl\n",
    "import meshplot as mp"
   ]
  },
  {
   "cell_type": "code",
   "execution_count": 2,
   "metadata": {
    "scrolled": true
   },
   "outputs": [],
   "source": [
    "# Utility function to generate a tet grid\n",
    "# n is a 3-tuple with the number of cell in every direction\n",
    "# mmin/mmax are the grid bounding box corners\n",
    "\n",
    "def tet_grid(n, mmin, mmax):\n",
    "    nx = n[0]\n",
    "    ny = n[1]\n",
    "    nz = n[2]\n",
    "    \n",
    "    delta = mmax-mmin\n",
    "    \n",
    "    deltax = delta[0]/(nx-1)\n",
    "    deltay = delta[1]/(ny-1)\n",
    "    deltaz = delta[2]/(nz-1)\n",
    "    \n",
    "    T = np.zeros(((nx-1)*(ny-1)*(nz-1)*6, 4), dtype=np.int64)\n",
    "    V = np.zeros((nx*ny*nz, 3))\n",
    "\n",
    "    mapping = -np.ones((nx, ny, nz), dtype=np.int64)\n",
    "\n",
    "\n",
    "    index = 0\n",
    "    for i in range(nx):\n",
    "        for j in range(ny):\n",
    "            for k in range(nz):\n",
    "                mapping[i, j, k] = index\n",
    "                V[index, :] = [i*deltax, j*deltay, k*deltaz]\n",
    "                index += 1\n",
    "    assert(index == V.shape[0])\n",
    "    \n",
    "    tets = np.array([\n",
    "        [0,1,3,4],\n",
    "        [5,2,6,7],\n",
    "        [4,1,5,3],\n",
    "        [4,3,7,5],\n",
    "        [3,1,5,2],\n",
    "        [2,3,7,5]\n",
    "    ])\n",
    "    \n",
    "    index = 0\n",
    "    for i in range(nx-1):\n",
    "        for j in range(ny-1):\n",
    "            for k in range(nz-1):\n",
    "                indices = [\n",
    "                    (i,   j,   k),\n",
    "                    (i+1, j,   k),\n",
    "                    (i+1, j+1, k),\n",
    "                    (i,   j+1, k),\n",
    "\n",
    "                    (i,   j,   k+1),\n",
    "                    (i+1, j,   k+1),\n",
    "                    (i+1, j+1, k+1),\n",
    "                    (i,   j+1, k+1),\n",
    "                ]\n",
    "                \n",
    "                for t in range(tets.shape[0]):\n",
    "                    tmp = [mapping[indices[ii]] for ii in tets[t, :]]\n",
    "                    T[index, :]=tmp\n",
    "                    index += 1\n",
    "                    \n",
    "    assert(index == T.shape[0])\n",
    "    \n",
    "    V += mmin\n",
    "    return V, T"
   ]
  },
  {
   "cell_type": "code",
   "execution_count": 3,
   "metadata": {},
   "outputs": [],
   "source": [
    "# mp(V,T)"
   ]
  },
  {
   "cell_type": "markdown",
   "metadata": {},
   "source": [
    "# Reading point cloud"
   ]
  },
  {
   "cell_type": "code",
   "execution_count": 4,
   "metadata": {},
   "outputs": [
    {
     "name": "stderr",
     "output_type": "stream",
     "text": [
      "E:\\Programs\\Anaconoda\\envs\\py38\\lib\\site-packages\\jupyter_client\\session.py:716: UserWarning: Message serialization failed with:\n",
      "Out of range float values are not JSON compliant\n",
      "Supporting this message is deprecated in jupyter-client 7, please make sure your message is JSON-compliant\n",
      "  content = self.pack(content)\n"
     ]
    },
    {
     "data": {
      "application/vnd.jupyter.widget-view+json": {
       "model_id": "7fb8733173b247e2b3acd7c0861a1aae",
       "version_major": 2,
       "version_minor": 0
      },
      "text/plain": [
       "Renderer(camera=PerspectiveCamera(children=(DirectionalLight(color='white', intensity=0.6, position=(5.0, -23.…"
      ]
     },
     "metadata": {},
     "output_type": "display_data"
    },
    {
     "data": {
      "text/plain": [
       "<meshplot.Viewer.Viewer at 0x265fc56c5b0>"
      ]
     },
     "execution_count": 4,
     "metadata": {},
     "output_type": "execute_result"
    }
   ],
   "source": [
    "# pi is point array, v is face array\n",
    "pi, v = igl.read_triangle_mesh(\"data/cat.off\")\n",
    "pi /= 10\n",
    "ni = igl.per_vertex_normals(pi, v)\n",
    "mp.plot(pi, shading={\"point_size\": 8})"
   ]
  },
  {
   "cell_type": "markdown",
   "metadata": {},
   "source": [
    "# Setting up the Constraints"
   ]
  },
  {
   "cell_type": "code",
   "execution_count": 5,
   "metadata": {},
   "outputs": [
    {
     "name": "stdout",
     "output_type": "stream",
     "text": [
      "max_coordinate: [32.7 16.7  5.8]\n",
      "min_coordinate: [-22.7 -63.7 -99. ]\n",
      "v_num 366\n"
     ]
    }
   ],
   "source": [
    "max_coordinate = np.max(pi, axis = 0)\n",
    "min_coordinate = np.min(pi, axis = 0)\n",
    "diagonal_len = igl.bounding_box_diagonal(pi)\n",
    "print(\"max_coordinate: \"+ str(max_coordinate))\n",
    "print(\"min_coordinate: \"+ str(min_coordinate))\n",
    "\n",
    "v_num = pi.shape[0]\n",
    "print(\"v_num\", v_num)"
   ]
  },
  {
   "cell_type": "code",
   "execution_count": 6,
   "metadata": {},
   "outputs": [],
   "source": [
    "# return id of closed point\n",
    "def find_closed_point(point, points):\n",
    "    # distances of each point\n",
    "    distances = np.linalg.norm(points - point, axis = 1)\n",
    "    return np.argmin(distances)"
   ]
  },
  {
   "cell_type": "code",
   "execution_count": 7,
   "metadata": {},
   "outputs": [],
   "source": [
    "# get appropriate eps for this point\n",
    "def update_eps(_eps, _x_id, _x_coord, _norm):\n",
    "    x_eps = _x_coord + _norm * _eps\n",
    "    if(find_closed_point(x_eps, pi) == _x_id):\n",
    "        return _eps\n",
    "    else:\n",
    "        return update_eps(_eps/2, _x_id, _x_coord, _norm)\n",
    "    "
   ]
  },
  {
   "cell_type": "code",
   "execution_count": 8,
   "metadata": {},
   "outputs": [],
   "source": [
    "# initial eps\n",
    "eps = 0.01 * diagonal_len\n",
    "# print(eps)\n",
    "\n",
    "# get v+ and v- for each vertex v\n",
    "constraint_v_coord_arr = np.zeros((3*v_num, 3), dtype = np.float64)\n",
    "constraint_fval_arr = np.zeros(3*v_num, dtype = np.float64)\n",
    "constraint_color_arr = np.zeros((3*v_num, 3), dtype = np.float64) #RGB\n",
    "for v_id in range(v_num):\n",
    "    coord = pi[v_id]\n",
    "    norm = ni[v_id]\n",
    "    constraint_v_coord_arr[3*v_id] = coord\n",
    "    constraint_fval_arr[3*v_id] = 0.0\n",
    "    constraint_color_arr[3*v_id] = [0.0, 0.0, 1.0]\n",
    "    # for v+\n",
    "    eps = update_eps(eps, v_id, coord, norm)\n",
    "    constraint_v_coord_arr[3*v_id + 1] = coord + eps * norm\n",
    "    constraint_fval_arr[3*v_id + 1] = eps\n",
    "    constraint_color_arr[3*v_id + 1] = [1.0, 0.0, 0.0]\n",
    "    # for v-\n",
    "    eps = update_eps(eps, v_id, coord, -norm)\n",
    "    constraint_v_coord_arr[3*v_id + 2] = coord - eps * norm\n",
    "    constraint_fval_arr[3*v_id + 2] = -eps\n",
    "    constraint_color_arr[3*v_id + 2] = [0.0, 1.0, 0.0]"
   ]
  },
  {
   "cell_type": "code",
   "execution_count": 9,
   "metadata": {},
   "outputs": [
    {
     "data": {
      "application/vnd.jupyter.widget-view+json": {
       "model_id": "db46d2a28bc34bb183e0c437fbafaf95",
       "version_major": 2,
       "version_minor": 0
      },
      "text/plain": [
       "Renderer(camera=PerspectiveCamera(children=(DirectionalLight(color='white', intensity=0.6, position=(5.0120944…"
      ]
     },
     "metadata": {},
     "output_type": "display_data"
    },
    {
     "data": {
      "text/plain": [
       "<meshplot.Viewer.Viewer at 0x265ff08e070>"
      ]
     },
     "execution_count": 9,
     "metadata": {},
     "output_type": "execute_result"
    }
   ],
   "source": [
    "# plot constraint points\n",
    "mp.plot(constraint_v_coord_arr, c = constraint_color_arr, shading={\"point_size\": 8})"
   ]
  },
  {
   "cell_type": "markdown",
   "metadata": {},
   "source": [
    "# MLS Interpolation"
   ]
  },
  {
   "cell_type": "code",
   "execution_count": 10,
   "metadata": {
    "scrolled": true
   },
   "outputs": [
    {
     "name": "stdout",
     "output_type": "stream",
     "text": [
      "grid_v_num:  15625\n",
      "poly_coeff_num:  1\n"
     ]
    }
   ],
   "source": [
    "# Generate grid n x n x n\n",
    "n = 25\n",
    "grid_vertices, T = tet_grid((n, n, n), min_coordinate - 0.05 * diagonal_len, max_coordinate + 0.05 * diagonal_len)\n",
    "\n",
    "grid_v_num = grid_vertices.shape[0]\n",
    "print(\"grid_v_num: \", grid_v_num)\n",
    "wendland_h = 25 # wendlandRadius\n",
    "poly_degree = 0\n",
    "poly_coeff_num = 0\n",
    "if(poly_degree == 0):\n",
    "    poly_coeff_num = 1\n",
    "elif(poly_degree == 1):\n",
    "    poly_coeff_num = 4\n",
    "elif(poly_degree == 2):\n",
    "    poly_coeff_num = 10\n",
    "print(\"poly_coeff_num: \", poly_coeff_num)"
   ]
  },
  {
   "cell_type": "code",
   "execution_count": 13,
   "metadata": {},
   "outputs": [],
   "source": [
    "# wendland weight function\n",
    "def wendland(_r):\n",
    "    return pow(1 - _r/wendland_h, 4)*(4*_r/wendland_h + 1)\n",
    "\n",
    "# select constraint point ids for each grid vertex\n",
    "def get_close_points_ids(_point, _points, _h):\n",
    "    return np.argwhere(np.linalg.norm(_points - _point, axis = 1) < _h).ravel()\n",
    "\n",
    "# get_close_points_ids([1,1,1], constraint_v_coord_arr, 10)\n",
    "\n",
    "def get_poly_terms(_coord):\n",
    "    x = _coord[0]\n",
    "    y = _coord[1]\n",
    "    z = _coord[2]\n",
    "    if(poly_degree == 0):\n",
    "        return np.array([1.0])\n",
    "    elif(poly_degree == 1):\n",
    "        return np.array([1.0, x, y, z])\n",
    "    elif(poly_degree == 2):\n",
    "        return np.array([1.0, x, y, z, x*x, y*y, z*z, x*y, y*z, z*x])\n",
    "    print(\"error: incorrect poly_degree\")\n",
    "    return None\n",
    "    "
   ]
  },
  {
   "cell_type": "code",
   "execution_count": 19,
   "metadata": {},
   "outputs": [
    {
     "data": {
      "application/vnd.jupyter.widget-view+json": {
       "model_id": "c7a977de7e984830bd377de79b68c10e",
       "version_major": 2,
       "version_minor": 0
      },
      "text/plain": [
       "Renderer(camera=PerspectiveCamera(children=(DirectionalLight(color='white', intensity=0.6, position=(5.0, -23.…"
      ]
     },
     "metadata": {},
     "output_type": "display_data"
    },
    {
     "data": {
      "text/plain": [
       "<meshplot.Viewer.Viewer at 0x2658240cd00>"
      ]
     },
     "execution_count": 19,
     "metadata": {},
     "output_type": "execute_result"
    }
   ],
   "source": [
    "# MLS method 1, matrix operation\n",
    "# solve DBX = b_arr for each grid vertex and then tell if BX>0 (outside)\n",
    "# D is a diagonal matrix of weights\n",
    "# DBX should be a projection of b_arr on plane DB\n",
    "# X = (B_T B X)-1 B_T b_arr\n",
    "grid_v_fval_arr = np.zeros(grid_v_num)   \n",
    "for i in range(grid_v_num):\n",
    "    # each grid vertex\n",
    "    close_points = get_close_points_ids(grid_vertices[i], constraint_v_coord_arr, wendland_h)\n",
    "    if (len(close_points) < poly_coeff_num*2):\n",
    "        grid_v_fval_arr[i] = 100\n",
    "    else:\n",
    "        B = np.zeros((len(close_points), poly_coeff_num))\n",
    "        DIAG = np.zeros((len(close_points), len(close_points)))\n",
    "        b_arr = np.zeros((len(close_points), 1))    \n",
    "        for j in range(len(close_points)):\n",
    "            r = np.linalg.norm(grid_vertices[i] - constraint_v_coord_arr[close_points[j]])\n",
    "            DIAG[j][j] = wendland(r)\n",
    "            B[j] = get_poly_terms(constraint_v_coord_arr[close_points[j]])\n",
    "            b_arr[j] = constraint_fval_arr[close_points[j]]\n",
    "        A = np.dot(np.dot(np.transpose(B), DIAG), B)\n",
    "        C = np.dot(np.dot(np.transpose(B), DIAG), b_arr)\n",
    "        X = np.linalg.solve(A, C)\n",
    "        for j in range(len(close_points)):\n",
    "            grid_v_fval_arr[i] += np.dot(B[j], X)\n",
    "ind = np.zeros_like(grid_v_fval_arr)\n",
    "ind[grid_v_fval_arr >= 0] = 1\n",
    "ind[grid_v_fval_arr < 0] = -1\n",
    "mp.plot(grid_vertices, c=ind, shading={\"point_size\": 8,\"width\": 800, \"height\": 800})"
   ]
  },
  {
   "cell_type": "code",
   "execution_count": 46,
   "metadata": {},
   "outputs": [],
   "source": [
    "# MLS method 2 \n",
    "# deprecated, try to build MLS equations by elements instead of too many matrix operations\n",
    "\n",
    "# # get f val for each grid vertex (different f)\n",
    "# grid_v_fval_arr = np.zeros(grid_v_num, dtype = np.float64)\n",
    "# for grid_v_i in range(grid_v_num):\n",
    "#     grid_v_coord = grid_vertices[grid_v_i]\n",
    "#     close_points_ids = get_close_points_ids(grid_v_coord, constraint_v_coord_arr, wendland_h)\n",
    "#     close_point_num = close_points_ids.shape[0]\n",
    "#     if(close_point_num < 2 * poly_coeff_num):\n",
    "#         grid_v_fval_arr[grid_v_i] = 1.0 # any positive value (means outside)\n",
    "#         continue\n",
    "#     # solve the MLS derivative equations of matrix\n",
    "# #     print(\"close_points_ids: \", close_points_ids)\n",
    "#     weight_arr = np.zeros(close_point_num, dtype = np.float64)\n",
    "#     close_v_terms = np.zeros((close_point_num, poly_coeff_num), dtype = np.float64)\n",
    "#     close_v_constraint_vals = np.zeros(close_point_num, dtype = np.float64)\n",
    "#     for i in range(close_point_num):\n",
    "#         close_v_id = close_points_ids[i]\n",
    "#         close_v_coord = constraint_v_coord_arr[close_v_id]\n",
    "# #         print(\"shape of constraint_v_coord_arr: \", constraint_v_coord_arr.shape)\n",
    "# #         print(\"close_v_coord: \", close_v_coord)\n",
    "#         close_v_terms[i] = get_poly_terms(close_v_coord)\n",
    "#         close_v_constraint_vals[i] = constraint_fval_arr[close_v_id]\n",
    "#         weight_arr[i] = wendland(np.linalg.norm(grid_v_coord - close_v_coord))\n",
    "# #     print(\"weight_arr: \", weight_arr)\n",
    "#     # solve AX = B\n",
    "#     mat_a = np.zeros((poly_coeff_num, poly_coeff_num), dtype = np.float64)\n",
    "#     arr_b = np.zeros(poly_coeff_num, dtype = np.float64)\n",
    "#     for i in range(poly_coeff_num):\n",
    "#        a_line = np.zeros((poly_coeff_num), dtype = np.float64)\n",
    "#        b_element = 0.0\n",
    "#        for j in range(close_point_num):\n",
    "#            a_line += weight_arr[j] * close_v_terms[j][i] *close_v_terms[j]\n",
    "#            b_element += weight_arr[j] * close_v_constraint_vals[j] * close_v_terms[j][i]\n",
    "#        mat_a[i] = a_line\n",
    "#        arr_b[i] = b_element\n",
    "#     count += 1\n",
    "# #     print(\"mat_a\", mat_a)\n",
    "# #     print(\"arr_b\", arr_b)\n",
    "# coefficients = np.linalg.solve(mat_a, arr_b)\n",
    "# grid_v_terms = get_poly_terms(grid_v_coord)\n",
    "# grid_v_fval_arr[grid_v_i] = np.multiply(coefficients, grid_v_terms)\n",
    "    "
   ]
  },
  {
   "cell_type": "code",
   "execution_count": 34,
   "metadata": {},
   "outputs": [
    {
     "name": "stdout",
     "output_type": "stream",
     "text": [
      "1120\n",
      "(15625, 1)\n",
      "(0, 1)\n"
     ]
    }
   ],
   "source": [
    "# # Treshold fx to visualize inside outside\n",
    "# print(count)\n",
    "# ind = np.zeros_like(grid_v_fval_arr)\n",
    "# ind[grid_v_fval_arr >= 0] = 1\n",
    "# ind[grid_v_fval_arr < 0] = -1\n",
    "# print(np.argwhere(grid_v_fval_arr >= 0).shape)\n",
    "# print(np.argwhere(grid_v_fval_arr < 0).shape)\n",
    "# # mp.plot(grid_vertices, c = ind, shading={\"point_size\": 8,\"width\": 800, \"height\": 800})"
   ]
  },
  {
   "cell_type": "markdown",
   "metadata": {},
   "source": [
    "# Marching to extract surface"
   ]
  },
  {
   "cell_type": "code",
   "execution_count": 79,
   "metadata": {},
   "outputs": [
    {
     "ename": "NameError",
     "evalue": "name 'x' is not defined",
     "output_type": "error",
     "traceback": [
      "\u001b[1;31m---------------------------------------------------------------------------\u001b[0m",
      "\u001b[1;31mNameError\u001b[0m                                 Traceback (most recent call last)",
      "Input \u001b[1;32mIn [79]\u001b[0m, in \u001b[0;36m<cell line: 3>\u001b[1;34m()\u001b[0m\n\u001b[0;32m      1\u001b[0m \u001b[38;5;66;03m# Marcing tet to extract surface\u001b[39;00m\n\u001b[1;32m----> 3\u001b[0m sv, sf, _, _ \u001b[38;5;241m=\u001b[39m igl\u001b[38;5;241m.\u001b[39mmarching_tets(\u001b[43mx\u001b[49m, T, fx, \u001b[38;5;241m0\u001b[39m)\n\u001b[0;32m      4\u001b[0m mp\u001b[38;5;241m.\u001b[39mplot(sv, sf, shading\u001b[38;5;241m=\u001b[39m{\u001b[38;5;124m\"\u001b[39m\u001b[38;5;124mwireframe\u001b[39m\u001b[38;5;124m\"\u001b[39m: \u001b[38;5;28;01mTrue\u001b[39;00m})\n",
      "\u001b[1;31mNameError\u001b[0m: name 'x' is not defined"
     ]
    }
   ],
   "source": [
    "# Marcing tet to extract surface\n",
    "\n",
    "sv, sf, _, _ = igl.marching_tets(x, T, fx, 0)\n",
    "mp.plot(sv, sf, shading={\"wireframe\": True})"
   ]
  },
  {
   "cell_type": "code",
   "execution_count": null,
   "metadata": {},
   "outputs": [],
   "source": []
  }
 ],
 "metadata": {
  "kernelspec": {
   "display_name": "Python 3 (ipykernel)",
   "language": "python",
   "name": "python3"
  },
  "language_info": {
   "codemirror_mode": {
    "name": "ipython",
    "version": 3
   },
   "file_extension": ".py",
   "mimetype": "text/x-python",
   "name": "python",
   "nbconvert_exporter": "python",
   "pygments_lexer": "ipython3",
   "version": "3.8.12"
  }
 },
 "nbformat": 4,
 "nbformat_minor": 4
}
