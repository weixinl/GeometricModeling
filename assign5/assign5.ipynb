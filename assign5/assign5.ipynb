{
 "cells": [
  {
   "cell_type": "code",
   "execution_count": 54,
   "id": "27fdec9e",
   "metadata": {},
   "outputs": [],
   "source": [
    "import numpy as np\n",
    "import igl\n",
    "import meshplot as mp\n",
    "import scipy.sparse as sp\n",
    "from sksparse.cholmod import cholesky\n",
    "from scipy.spatial.transform import Rotation\n",
    "import ipywidgets as iw\n",
    "import time\n",
    "from numba import jit"
   ]
  },
  {
   "cell_type": "code",
   "execution_count": 55,
   "id": "8b8fd6f7",
   "metadata": {},
   "outputs": [],
   "source": [
    "v, f = igl.read_triangle_mesh('data/hand.off')\n",
    "\n",
    "# label = 0 is free points, label >=1 is handle points\n",
    "labels = np.load('data/hand.label.npy').astype(int)\n",
    "v -= v.min(axis=0)\n",
    "v /= v.max()\n",
    "vnum = v.shape[0]\n",
    "free_vids = np.where(labels == 0)[0]\n",
    "handle_vids = np.where(labels >= 1)[0]\n",
    "# print(labels.shape)\n",
    "# print(free_vids.shape)\n",
    "# print(handle_vids.shape)\n",
    "# print(np.linalg.norm(igl.per_vertex_normals(v,f), axis = 1))"
   ]
  },
  {
   "cell_type": "code",
   "execution_count": 56,
   "id": "d82cba38",
   "metadata": {},
   "outputs": [],
   "source": [
    "handle_vertex_positions = v.copy()\n",
    "pos_f_saver = np.zeros((labels.max() + 1, 6))\n",
    "def pos_f(s,x,y,z, α, β, γ):\n",
    "    # vertex ids of this segment\n",
    "    slices = (labels==s)\n",
    "    # rotation operator\n",
    "    r = Rotation.from_euler('xyz', [α, β, γ], degrees=True)\n",
    "    # translation\n",
    "    v_slice = v[slices] + np.array([[x,y,z]])\n",
    "    center = v_slice.mean(axis=0)\n",
    "    # rotation (act on v's copy)\n",
    "    handle_vertex_positions[slices] = r.apply(v_slice - center) + center\n",
    "    pos_f_saver[s - 1] = [x,y,z,α,β,γ]\n",
    "    t0 = time.time()\n",
    "    # new coordinates of all vertices\n",
    "    v_deformed = pos_f.deformer(handle_vertex_positions)\n",
    "    p.update_object(vertices = v_deformed)\n",
    "    t1 = time.time()\n",
    "\n",
    "    print('FPS', 1/(t1 - t0))\n",
    "pos_f.deformer = lambda x:x"
   ]
  },
  {
   "cell_type": "code",
   "execution_count": 57,
   "id": "6f41d8ac",
   "metadata": {},
   "outputs": [],
   "source": [
    "def widgets_wrapper():\n",
    "    segment_widget = iw.Dropdown(options=np.arange(labels.max()) + 1)\n",
    "    translate_widget = {i:iw.FloatSlider(min=-1, max=1, value=0) \n",
    "                        for i in 'xyz'}\n",
    "    rotate_widget = {a:iw.FloatSlider(min=-90, max=90, value=0, step=1) \n",
    "                     for a in 'αβγ'}\n",
    "\n",
    "    def update_seg(*args):\n",
    "        (translate_widget['x'].value,translate_widget['y'].value,\n",
    "        translate_widget['z'].value,\n",
    "        rotate_widget['α'].value,rotate_widget['β'].value,\n",
    "        rotate_widget['γ'].value) = pos_f_saver[segment_widget.value]\n",
    "    segment_widget.observe(update_seg, 'value')\n",
    "    widgets_dict = dict(s=segment_widget)\n",
    "    widgets_dict.update(translate_widget)\n",
    "    widgets_dict.update(rotate_widget)\n",
    "    return widgets_dict"
   ]
  },
  {
   "cell_type": "markdown",
   "id": "f2a7f36f",
   "metadata": {},
   "source": [
    "## Step 1: Removal of high-frequency details\n",
    "## Step 2: Deforming the smooth mesh"
   ]
  },
  {
   "cell_type": "code",
   "execution_count": 58,
   "id": "b6375477-930b-48db-9eba-6ce41525d2cf",
   "metadata": {},
   "outputs": [],
   "source": [
    "# cot matrix\n",
    "Cot = igl.cotmatrix(v, f)\n",
    "# mass matrix\n",
    "M = igl.massmatrix(v, f, igl.MASSMATRIX_TYPE_VORONOI)\n",
    "# inverse of M\n",
    "MINV = sp.diags(1 / M.diagonal())\n",
    "A = Cot.T@MINV@Cot\n",
    "# partitioned matrix\n",
    "Aff = A[free_vids, :][:, free_vids]\n",
    "Afc = A[free_vids, :][:, handle_vids]"
   ]
  },
  {
   "cell_type": "code",
   "execution_count": 59,
   "id": "6f3a44ce",
   "metadata": {},
   "outputs": [],
   "source": [
    "def smooth_deform(_vertices):\n",
    "    xc = _vertices[handle_vids]\n",
    "    xf = sp.linalg.spsolve(Aff, -Afc@xc)\n",
    "    x = np.zeros((vnum,3))\n",
    "    x[free_vids] = xf\n",
    "    x[handle_vids] = xc\n",
    "    return x\n",
    "    "
   ]
  },
  {
   "cell_type": "markdown",
   "id": "7c33e1fe",
   "metadata": {},
   "source": [
    "## Step 3: Transferring high-frequency details to the deformed surface"
   ]
  },
  {
   "cell_type": "code",
   "execution_count": 60,
   "id": "b9a045a0",
   "metadata": {},
   "outputs": [],
   "source": [
    "# get displacement between S1 - B1 on local frame of each vertex\n",
    "def get_local_dis(_s1_vertices, _b1_vertices):\n",
    "    # displacements s1-b1\n",
    "    dis1s = _s1_vertices - _b1_vertices\n",
    "    # to build local frame on each vertex (normal and tangent surface) of b1\n",
    "    # normals are already normalized\n",
    "    b1_normals = igl.per_vertex_normals(_b1_vertices, f)\n",
    "    # Pythagorean theorem to find the adjacent edge with longest projection on the tangent surface (on b1)\n",
    "    nei_vids_by_vertex = igl.adjacency_list(f)\n",
    "    nei_vid_select_by_vertex = np.zeros(vnum, dtype = int)\n",
    "    dxs = np.zeros(vnum)\n",
    "    dys = np.zeros(vnum)\n",
    "    dns = np.zeros(vnum)\n",
    "    for vid in range(vnum):\n",
    "        nei_vids = nei_vids_by_vertex[vid]\n",
    "        nei_coords = _b1_vertices[nei_vids]\n",
    "        nei_edges = nei_coords - _b1_vertices[vid]\n",
    "        nei_edges_len = np.linalg.norm(nei_edges, axis = 1)\n",
    "        normal = b1_normals[vid]\n",
    "        # lengths of edges projected to normal direction (inner product)\n",
    "        nei_edges_normal_proj = nei_edges @ normal\n",
    "        nei_edges_tangent_proj_sq = np.power(nei_edges_len, 2) - np.power(nei_edges_normal_proj, 2)\n",
    "        # find the neighbor vid with maximum tangent projection length\n",
    "        neiid_select = np.argmax(nei_edges_tangent_proj_sq)\n",
    "        nei_vid_select = nei_vids[neiid_select]\n",
    "        nei_vid_select_by_vertex[vid] = nei_vid_select\n",
    "        nei_edge_select = nei_edges[neiid_select]\n",
    "        y_base = np.cross(normal, nei_edge_select)\n",
    "        # normalize\n",
    "        y_base = y_base / np.linalg.norm(y_base)\n",
    "        x_base = np.cross(y_base, normal)\n",
    "        # coordinates of displacement in this local frame\n",
    "        dis1 = dis1s[vid]\n",
    "        dxs[vid] = np.dot(dis1,x_base)\n",
    "        dys[vid] = np.dot(dis1, y_base)\n",
    "        dns[vid] = np.dot(dis1, normal)\n",
    "    return dxs, dys, dns, nei_vid_select_by_vertex"
   ]
  },
  {
   "cell_type": "code",
   "execution_count": 61,
   "id": "f5b95f8b",
   "metadata": {},
   "outputs": [],
   "source": [
    "smooth1_vertices = smooth_deform(v)\n",
    "dxs, dys, dns, nei_vid_select_by_vertex = get_local_dis(v, smooth1_vertices)\n",
    "# print(smooth1_vertices)"
   ]
  },
  {
   "cell_type": "code",
   "execution_count": 62,
   "id": "2d48ba6e",
   "metadata": {},
   "outputs": [],
   "source": [
    "# b2 is new smooth mesh\n",
    "def transfer_details(_b2_vertices):\n",
    "    # normals are already normalized\n",
    "    b2_normals = igl.per_vertex_normals(_b2_vertices, f)\n",
    "    dis2s = np.zeros((vnum, 3))\n",
    "    for vid in range(vnum):\n",
    "        nei_vid_select = nei_vid_select_by_vertex[vid]\n",
    "        nei_edge_select = _b2_vertices[nei_vid_select] - _b2_vertices[vid]\n",
    "        # build b2 local frame at this vertex\n",
    "        normal = b2_normals[vid]\n",
    "        y_base = np.cross(normal, nei_edge_select)\n",
    "        y_base = y_base / np.linalg.norm(y_base)\n",
    "        x_base = np.cross(y_base, normal)\n",
    "        dis2s[vid, :] = dxs[vid]*x_base + dys[vid]*y_base + dns[vid]*normal\n",
    "    return _b2_vertices + dis2s"
   ]
  },
  {
   "cell_type": "markdown",
   "id": "8338c171",
   "metadata": {},
   "source": [
    "## Performance"
   ]
  },
  {
   "cell_type": "code",
   "execution_count": 63,
   "id": "7a8e3aaf",
   "metadata": {},
   "outputs": [
    {
     "name": "stderr",
     "output_type": "stream",
     "text": [
      "C:\\Users\\13400\\AppData\\Local\\Temp/ipykernel_11328/983807932.py:4: CholmodTypeConversionWarning: converting matrix of class csr_matrix to CSC format\n",
      "  factor = cholesky(Aff)\n"
     ]
    }
   ],
   "source": [
    "# # In this section, modify the smooth_deform and transfer_details function \n",
    "# ## by Cholesky\n",
    "\n",
    "factor = cholesky(Aff)\n",
    "# accelerated version\n",
    "def smooth_deform(_vertices):\n",
    "    xc = _vertices[handle_vids]\n",
    "    xf = factor(-1*Afc@xc)\n",
    "    x = np.zeros((vnum,3))\n",
    "    x[free_vids] = xf\n",
    "    x[handle_vids] = xc\n",
    "    return x\n",
    "\n",
    "# accelerated version\n",
    "\n",
    "def transfer_details(_b2_vertices):\n",
    "    # normals are already normalized\n",
    "    b2_normals = igl.per_vertex_normals(_b2_vertices, f)\n",
    "    # dis2s = np.zeros((vnum, 3))\n",
    "    nei_edges_select = _b2_vertices[nei_vid_select_by_vertex] - _b2_vertices\n",
    "    y_bases_raw = np.cross(b2_normals, nei_edges_select)\n",
    "    y_norms = np.linalg.norm(y_bases_raw, axis = 1)\n",
    "    y_norms_recip = np.reciprocal(y_norms)\n",
    "    # normalize\n",
    "    y_bases = np.einsum('i,ij->ij', y_norms_recip, y_bases_raw)\n",
    "    x_bases = np.cross(y_bases, b2_normals)\n",
    "    dis2s = np.einsum('i,ij->ij', dxs, x_bases) + np.einsum('i,ij->ij', dys, y_bases) + np.einsum('i,ij->ij', dns, b2_normals)                          \n",
    "    return _b2_vertices + dis2s"
   ]
  },
  {
   "cell_type": "code",
   "execution_count": 68,
   "id": "66df49cc",
   "metadata": {},
   "outputs": [],
   "source": [
    "\n",
    "def position_deformer(target_pos):\n",
    "    '''Fill in this function to change positions'''\n",
    "    # t0 = time.time()\n",
    "    smooth2_vertices = smooth_deform(target_pos)\n",
    "    # t1 = time.time()\n",
    "    # print(\"smooth time\", t1-t0)\n",
    "    res = transfer_details(smooth2_vertices)\n",
    "    # t2 = time.time()\n",
    "    # print(\"tranfer time\", t2-t1)\n",
    "    return smooth2_vertices\n",
    "# (Optional) Register this function to perform interactive deformation\n",
    "pos_f.deformer = position_deformer\n"
   ]
  },
  {
   "cell_type": "code",
   "execution_count": 69,
   "id": "ce6a46ea",
   "metadata": {},
   "outputs": [
    {
     "data": {
      "application/vnd.jupyter.widget-view+json": {
       "model_id": "0c1331d52a634399abfbea133564ed66",
       "version_major": 2,
       "version_minor": 0
      },
      "text/plain": [
       "Renderer(camera=PerspectiveCamera(children=(DirectionalLight(color='white', intensity=0.6, position=(0.5, 0.19…"
      ]
     },
     "metadata": {},
     "output_type": "display_data"
    },
    {
     "data": {
      "application/vnd.jupyter.widget-view+json": {
       "model_id": "c270fa3f689b45b08a1bfa973fd86a40",
       "version_major": 2,
       "version_minor": 0
      },
      "text/plain": [
       "interactive(children=(Dropdown(description='s', options=(1, 2, 3, 4), value=1), FloatSlider(value=0.0, descrip…"
      ]
     },
     "metadata": {},
     "output_type": "display_data"
    },
    {
     "data": {
      "text/plain": [
       "<function __main__.pos_f(s, x, y, z, α, β, γ)>"
      ]
     },
     "execution_count": 69,
     "metadata": {},
     "output_type": "execute_result"
    }
   ],
   "source": [
    "## Widget UI\n",
    "\n",
    "p = mp.plot(handle_vertex_positions, f, c=labels)\n",
    "iw.interact(pos_f,\n",
    "            **widgets_wrapper())"
   ]
  },
  {
   "cell_type": "code",
   "execution_count": null,
   "id": "f14f8af5",
   "metadata": {},
   "outputs": [],
   "source": []
  },
  {
   "cell_type": "code",
   "execution_count": null,
   "id": "98fcf43b",
   "metadata": {},
   "outputs": [],
   "source": []
  },
  {
   "cell_type": "code",
   "execution_count": null,
   "id": "e9fa0b00",
   "metadata": {},
   "outputs": [],
   "source": []
  }
 ],
 "metadata": {
  "kernelspec": {
   "display_name": "Python 3 (ipykernel)",
   "language": "python",
   "name": "python3"
  },
  "language_info": {
   "codemirror_mode": {
    "name": "ipython",
    "version": 3
   },
   "file_extension": ".py",
   "mimetype": "text/x-python",
   "name": "python",
   "nbconvert_exporter": "python",
   "pygments_lexer": "ipython3",
   "version": "3.9.7"
  }
 },
 "nbformat": 4,
 "nbformat_minor": 5
}
