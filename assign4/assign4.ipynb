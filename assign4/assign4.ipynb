{
 "cells": [
  {
   "cell_type": "markdown",
   "metadata": {},
   "source": [
    "# Assigment 4"
   ]
  },
  {
   "cell_type": "code",
   "execution_count": 1,
   "metadata": {},
   "outputs": [],
   "source": [
    "import math\n",
    "import numpy as np\n",
    "import scipy.sparse as sp\n",
    "\n",
    "import igl\n",
    "import meshplot as mp\n",
    "\n",
    "from math import sqrt"
   ]
  },
  {
   "cell_type": "code",
   "execution_count": 2,
   "metadata": {},
   "outputs": [],
   "source": [
    "v, f = igl.read_triangle_mesh(\"data/irr4-cyl2.off\")\n",
    "tt, _ = igl.triangle_triangle_adjacency(f)\n",
    "\n",
    "c = np.loadtxt(\"data/irr4-cyl2.constraints\")\n",
    "cf = c[:, 0].astype(np.int64)\n",
    "c = c[:, 1:]\n",
    "# print(cf)\n",
    "# print(c)"
   ]
  },
  {
   "cell_type": "markdown",
   "metadata": {},
   "source": [
    "# 1. Tangent vector fields for scalar field design \n",
    "## Soft Constraint"
   ]
  },
  {
   "cell_type": "code",
   "execution_count": 3,
   "metadata": {},
   "outputs": [],
   "source": [
    "def align_field(V, F, TT, soft_id, soft_value, llambda):\n",
    "    assert(soft_id[0] > 0)\n",
    "    assert(soft_id.shape[0] == soft_value.shape[0])\n",
    "\n",
    "    \n",
    "    # Edges\n",
    "    e1 = V[F[:, 1], :] - V[F[:, 0], :]\n",
    "    e2 = V[F[:, 2], :] - V[F[:, 0], :]\n",
    "\n",
    "    # Compute the local reference systems for each face, T1, T2\n",
    "    T1 = e1 / np.linalg.norm(e1, axis=1)[:,None]\n",
    "        \n",
    "    T2 =  np.cross(T1, np.cross(T1, e2))\n",
    "    T2 /= np.linalg.norm(T2, axis=1)[:,None]\n",
    "  \n",
    "    # Arrays for the entries of the matrix\n",
    "    data = []\n",
    "    ii = []\n",
    "    jj = []\n",
    "    \n",
    "    index = 0\n",
    "    for f in range(F.shape[0]):\n",
    "        for ei in range(3): # Loop over the edges\n",
    "            \n",
    "            # Look up the opposite face\n",
    "            g = TT[f, ei]\n",
    "            \n",
    "            # If it is a boundary edge, it does not contribute to the energy\n",
    "            # or avoid to count every edge twice\n",
    "            if g == -1 or f > g:\n",
    "                continue\n",
    "                \n",
    "            # Compute the complex representation of the common edge\n",
    "            e  = V[F[f, (ei+1)%3], :] - V[F[f, ei], :]\n",
    "            \n",
    "            vef = np.array([np.dot(e, T1[f, :]), np.dot(e, T2[f, :])])\n",
    "            vef /= np.linalg.norm(vef)\n",
    "            ef = (vef[0] + vef[1]*1j).conjugate()\n",
    "            \n",
    "            veg = np.array([np.dot(e, T1[g, :]), np.dot(e, T2[g, :])])\n",
    "            veg /= np.linalg.norm(veg)\n",
    "            eg = (veg[0] + veg[1]*1j).conjugate()\n",
    "            \n",
    "            \n",
    "            # Add the term conj(f)^n*ui - conj(g)^n*uj to the energy matrix\n",
    "            data.append(ef);  ii.append(index); jj.append(f)\n",
    "            data.append(-eg); ii.append(index); jj.append(g)\n",
    "\n",
    "            index += 1\n",
    "            \n",
    "    \n",
    "    sqrtl = sqrt(llambda)\n",
    "    \n",
    "    # Convert the constraints into the complex polynomial coefficients and add them as soft constraints\n",
    "    \n",
    "    # Rhs of the system\n",
    "    b = np.zeros(index + soft_id.shape[0], dtype=np.complex)\n",
    "    \n",
    "    for ci in range(soft_id.shape[0]):\n",
    "        f = soft_id[ci]\n",
    "        v = soft_value[ci, :]\n",
    "        \n",
    "        # Project on the local frame\n",
    "        c = np.dot(v, T1[f, :]) + np.dot(v, T2[f, :])*1j\n",
    "        \n",
    "        data.append(sqrtl); ii.append(index); jj.append(f)\n",
    "        b[index] = c * sqrtl\n",
    "        \n",
    "        index += 1\n",
    "    \n",
    "    assert(b.shape[0] == index)\n",
    "    \n",
    "    \n",
    "    # Solve the linear system\n",
    "    A = sp.coo_matrix((data, (ii, jj)), shape=(index, F.shape[0])).asformat(\"csr\")\n",
    "    u = sp.linalg.spsolve(A.H @ A, A.H @ b)\n",
    "    R = T1 * u.real[:,None] + T2 * u.imag[:,None]\n",
    "\n",
    "    return R"
   ]
  },
  {
   "cell_type": "code",
   "execution_count": 4,
   "metadata": {},
   "outputs": [],
   "source": [
    "def plot_mesh_field(V, F, R, constrain_faces):\n",
    "    # Highlight in red the constrained faces\n",
    "    col = np.ones_like(f)\n",
    "    col[constrain_faces, 1:] = 0\n",
    "    \n",
    "    # Scaling of the representative vectors\n",
    "    avg = igl.avg_edge_length(V, F)/2\n",
    "\n",
    "    #Plot from face barycenters\n",
    "    B = igl.barycenter(V, F)\n",
    "\n",
    "    p = mp.plot(V, F, c=col)\n",
    "    p.add_lines(B, B + R * avg)\n",
    "    \n",
    "    return p"
   ]
  },
  {
   "cell_type": "code",
   "execution_count": 5,
   "metadata": {},
   "outputs": [
    {
     "name": "stderr",
     "output_type": "stream",
     "text": [
      "C:\\Users\\13400\\AppData\\Local\\Temp\\ipykernel_13372\\1349794068.py:57: DeprecationWarning: `np.complex` is a deprecated alias for the builtin `complex`. To silence this warning, use `complex` by itself. Doing this will not modify any behavior and is safe. If you specifically wanted the numpy scalar type, use `np.complex128` here.\n",
      "Deprecated in NumPy 1.20; for more details and guidance: https://numpy.org/devdocs/release/1.20.0-notes.html#deprecations\n",
      "  b = np.zeros(index + soft_id.shape[0], dtype=np.complex)\n",
      "E:\\Programs\\Anaconoda\\envs\\py38\\lib\\site-packages\\jupyter_client\\session.py:716: UserWarning: Message serialization failed with:\n",
      "Out of range float values are not JSON compliant\n",
      "Supporting this message is deprecated in jupyter-client 7, please make sure your message is JSON-compliant\n",
      "  content = self.pack(content)\n"
     ]
    },
    {
     "data": {
      "application/vnd.jupyter.widget-view+json": {
       "model_id": "c8d484f58d88430291ae3664754eef15",
       "version_major": 2,
       "version_minor": 0
      },
      "text/plain": [
       "Renderer(camera=PerspectiveCamera(children=(DirectionalLight(color='white', intensity=0.6, position=(0.0, 0.0,…"
      ]
     },
     "metadata": {},
     "output_type": "display_data"
    }
   ],
   "source": [
    "R = align_field(v, f, tt, cf, c, 1e6)\n",
    "plot_mesh_field(v, f, R, cf)\n",
    "np.savetxt('data/softconstr_vectors.txt', R, delimiter=' ')"
   ]
  },
  {
   "cell_type": "markdown",
   "metadata": {},
   "source": [
    "## Hard Constraint"
   ]
  },
  {
   "cell_type": "code",
   "execution_count": 6,
   "metadata": {},
   "outputs": [],
   "source": [
    "## min ||A*x||, A = [Af, xf], x = [xf, xc], xc is hard constraint\n",
    "## that is, min || Af*xf + Ac*xc ||\n",
    "## => Af.H*Af*Xf+Af.H*Ac*xc = 0 \n",
    "def align_field_hard_constraint(V, F, TT, constr_fids, constr_vals):\n",
    "    assert(constr_fids.shape[0] > 0) # I think this should be .shape[0] not just [0]\n",
    "    assert(constr_fids.shape[0] == constr_vals.shape[0])\n",
    "\n",
    "    \n",
    "    # Edges\n",
    "    e1 = V[F[:, 1], :] - V[F[:, 0], :]\n",
    "    e2 = V[F[:, 2], :] - V[F[:, 0], :]\n",
    "\n",
    "    # Compute the local reference systems for each face, T1, T2\n",
    "    T1 = e1 / np.linalg.norm(e1, axis=1)[:,None]\n",
    "        \n",
    "    T2 =  np.cross(T1, np.cross(T1, e2))\n",
    "    T2 /= np.linalg.norm(T2, axis=1)[:,None]\n",
    "  \n",
    "    # Arrays for the entries of the matrix\n",
    "    data = []\n",
    "    ii = []\n",
    "    jj = []\n",
    "    \n",
    "    index = 0\n",
    "    for f in range(F.shape[0]):\n",
    "        for ei in range(3): # Loop over the edges\n",
    "            \n",
    "            # Look up the opposite face\n",
    "            g = TT[f, ei]\n",
    "            \n",
    "            # If it is a boundary edge, it does not contribute to the energy\n",
    "            # or avoid to count every edge twice\n",
    "            if g == -1 or f > g:\n",
    "                continue\n",
    "                \n",
    "            # Compute the complex representation of the common edge\n",
    "            e  = V[F[f, (ei+1)%3], :] - V[F[f, ei], :]\n",
    "            \n",
    "            vef = np.array([np.dot(e, T1[f, :]), np.dot(e, T2[f, :])])\n",
    "            vef /= np.linalg.norm(vef)\n",
    "            ef = (vef[0] + vef[1]*1j).conjugate()\n",
    "            \n",
    "            veg = np.array([np.dot(e, T1[g, :]), np.dot(e, T2[g, :])])\n",
    "            veg /= np.linalg.norm(veg)\n",
    "            eg = (veg[0] + veg[1]*1j).conjugate()\n",
    "            \n",
    "            \n",
    "            # Add the term conj(f)^n*ui - conj(g)^n*uj to the energy matrix\n",
    "            data.append(ef);  ii.append(index); jj.append(f)\n",
    "            data.append(-eg); ii.append(index); jj.append(g)\n",
    "\n",
    "            index += 1\n",
    "            \n",
    "            \n",
    "    A = sp.coo_matrix((data, (ii, jj)), shape=(index, F.shape[0])).asformat(\"csr\")\n",
    "    # split A, x according to unknown xf and constants (hard constraints) xc\n",
    "    fnum = F.shape[0] # number of faces\n",
    "    constr_fnum = constr_fids.shape[0] # number of constrained faces\n",
    "    unconstr_fnum = fnum - constr_fnum\n",
    "    unconstr_fids = []\n",
    "    for fid in range(fnum):\n",
    "        if (not (fid in constr_fids)):\n",
    "            unconstr_fids.append(fid)\n",
    "            \n",
    "    # A = [Af, Ac]\n",
    "    Af = A[:, unconstr_fids]\n",
    "    Ac = A[:, constr_fids]\n",
    "    \n",
    "    # get xc -- convert constraint vectors to complex numbers on coordinates of each face\n",
    "    xc = np.zeros(constr_fnum, dtype=np.complex)\n",
    "    for cid in range(constr_fnum):\n",
    "        fid = constr_fids[cid]\n",
    "        v = constr_vals[cid] # 3d vector\n",
    "        c = np.dot(v, T1[fid, :]) + np.dot(v, T2[fid, :])*1j # converted to complex number on this face\n",
    "        xc[cid] = c\n",
    "        \n",
    "    # Solve the linear system\n",
    "    xf = sp.linalg.spsolve(Af.H @ Af, -1*Af.H @ Ac @ xc)\n",
    "    # convert to 3-d coordinates (unconstraint vectors)\n",
    "#     print(T1.shape)\n",
    "#     print(xf.real[:,None].shape)\n",
    "    unconstr_vals = T1[unconstr_fids, :] * xf.real[:,None] + T2[unconstr_fids, :] * xf.imag[:,None]\n",
    "    # vectors of each face\n",
    "    vectors = np.zeros((fnum, 3))\n",
    "    vectors[unconstr_fids] = unconstr_vals\n",
    "    vectors[constr_fids] = constr_vals\n",
    "\n",
    "    return vectors"
   ]
  },
  {
   "cell_type": "code",
   "execution_count": 7,
   "metadata": {},
   "outputs": [
    {
     "name": "stderr",
     "output_type": "stream",
     "text": [
      "C:\\Users\\13400\\AppData\\Local\\Temp\\ipykernel_13372\\2741399538.py:70: DeprecationWarning: `np.complex` is a deprecated alias for the builtin `complex`. To silence this warning, use `complex` by itself. Doing this will not modify any behavior and is safe. If you specifically wanted the numpy scalar type, use `np.complex128` here.\n",
      "Deprecated in NumPy 1.20; for more details and guidance: https://numpy.org/devdocs/release/1.20.0-notes.html#deprecations\n",
      "  xc = np.zeros(constr_fnum, dtype=np.complex)\n"
     ]
    },
    {
     "data": {
      "application/vnd.jupyter.widget-view+json": {
       "model_id": "734b7c626ec945e496d628bbe5799181",
       "version_major": 2,
       "version_minor": 0
      },
      "text/plain": [
       "Renderer(camera=PerspectiveCamera(children=(DirectionalLight(color='white', intensity=0.6, position=(0.0, 0.0,…"
      ]
     },
     "metadata": {},
     "output_type": "display_data"
    }
   ],
   "source": [
    "vectors_hardconstr = align_field_hard_constraint(v, f, tt, cf, c)\n",
    "plot_mesh_field(v, f, vectors_hardconstr, cf)\n",
    "np.savetxt('data/hardconstr_vectors.txt', vectors_hardconstr, delimiter=' ')"
   ]
  },
  {
   "cell_type": "markdown",
   "metadata": {},
   "source": [
    "# 2. Reconstructing a scalar field from a vector field"
   ]
  },
  {
   "cell_type": "code",
   "execution_count": 27,
   "metadata": {},
   "outputs": [],
   "source": [
    "## min SUM_t(A_t||Del f(p_t) - v_t||^2) to solve scalar field ( a #V-dim vector S)\n",
    "## solve min||WS-b||^2 where W is 3#F*#V, S is #V*1, b is 3#F*1 (b is vector field)\n",
    "## not full mark -> split S to s1, s2 where s1 unknown , s2 is 1*1 with any value\n",
    "## corresponding partitioned matrix W1, W2\n",
    "## then min||W1s1-(b-W2s2)||^2 -> to solve W1_H@W1@S1-W1_H@(b-W2@S2)=0\n",
    "\n",
    "# get perpendicular vector of a 3-d vector on a specific face (rotate 90 degree counter clockwise)\n",
    "def get_perpendicular(vec, vec2):\n",
    "    # vertical to this face\n",
    "    plane_vertical = np.cross(vec2, vec)\n",
    "    # normalize it\n",
    "    plane_vert_normed = plane_vertical / np.linalg.norm(plane_vertical)\n",
    "    return np.cross(vec, plane_vert_normed)\n",
    "\n",
    "# print(get_perpendicular([1, -3, 0], [2,-3,0]))\n",
    "\n",
    "def construct_scalar_field(vertices, faces, vectors):\n",
    "    vnum = vertices.shape[0]\n",
    "    fnum = faces.shape[0]\n",
    "    # area of each face\n",
    "    areas = 0.5 * igl.doublearea(vertices, faces)\n",
    "#     print(\"areas shape:\", areas.shape)\n",
    "#     print(areas)\n",
    "    sqrt_areas = np.sqrt(areas)\n",
    "    \n",
    "    # build matrix W (sparse matrix)\n",
    "    W_data = []\n",
    "    W_rows = []\n",
    "    W_cols = []\n",
    "    for fid in range(fnum):\n",
    "        # 3 rows (3 terms) for each face\n",
    "        sqrt_area = sqrt_areas[fid]\n",
    "        vi_id = faces[fid][0]\n",
    "        vj_id = faces[fid][1]\n",
    "        vk_id = faces[fid][2]\n",
    "        vi_coord = vertices[vi_id, :]\n",
    "        vj_coord = vertices[vj_id, :]\n",
    "        vk_coord = vertices[vk_id, :]\n",
    "        e1 = vj_coord - vi_coord\n",
    "        e2 = vk_coord - vj_coord\n",
    "        e3 = vi_coord - vk_coord\n",
    "        # perpendicular\n",
    "        e1_per = get_perpendicular(e1, -1*e3)\n",
    "        e3_per = get_perpendicular(e3, -1*e2)\n",
    "        eadd_per = e1_per + e3_per\n",
    "        for dim_i in range(3):\n",
    "            W_data.append(-0.5 / sqrt_area * eadd_per[dim_i])\n",
    "            W_rows.append(3*fid + dim_i)\n",
    "            W_cols.append(vi_id)\n",
    "            W_data.append(0.5 / sqrt_area * e3_per[dim_i])\n",
    "            W_rows.append(3*fid + dim_i)\n",
    "            W_cols.append(vj_id)\n",
    "            W_data.append(0.5 / sqrt_area * e1_per[dim_i])\n",
    "            W_rows.append(3*fid + dim_i)\n",
    "            W_cols.append(vk_id)\n",
    "    W = sp.coo_matrix((W_data, (W_rows, W_cols)), shape=(3*fnum, vnum)).asformat(\"csr\")\n",
    "    W1 = W[:, :vnum - 1]\n",
    "    W2 = W[:, [vnum - 1]]\n",
    "#     print(\"W2 shape: \", W2.shape)\n",
    "    \n",
    "    # build b (vector fields weighted by sqrt area)\n",
    "    b = np.zeros(3*fnum)\n",
    "    for fid in range(fnum):\n",
    "        sqrt_area = sqrt_areas[fid]\n",
    "        vec = vectors[fid, :]\n",
    "        for dim_i in range(3):\n",
    "            b[3*fid + dim_i] = sqrt_area * vec[dim_i]\n",
    "    \n",
    "    # assign random value to s2\n",
    "    s2 = np.array([0.0])\n",
    "    \n",
    "    # solve s1 (unknown scalar array)\n",
    "    s1 = sp.linalg.spsolve(W1.H @ W1, W1.H @ (b - W2@s2))\n",
    "    \n",
    "    return np.concatenate((s1,s2))\n",
    "\n",
    "def plot_vectors_and_scalars(V, F, vectors, scalars):\n",
    "    \n",
    "    # Scaling of the representative vectors\n",
    "    avg = igl.avg_edge_length(V, F)/2\n",
    "\n",
    "    #Plot from face barycenters\n",
    "    B = igl.barycenter(V, F)\n",
    "\n",
    "    p = mp.plot(V, F, c=scalars)\n",
    "    p.add_lines(B, B + vectors * avg)\n",
    "    \n",
    "    return p"
   ]
  },
  {
   "cell_type": "code",
   "execution_count": 40,
   "metadata": {},
   "outputs": [
    {
     "data": {
      "application/vnd.jupyter.widget-view+json": {
       "model_id": "0f531c1575674f93a0cb9d42c0850641",
       "version_major": 2,
       "version_minor": 0
      },
      "text/plain": [
       "Renderer(camera=PerspectiveCamera(children=(DirectionalLight(color='white', intensity=0.6, position=(0.0, 0.0,…"
      ]
     },
     "metadata": {},
     "output_type": "display_data"
    }
   ],
   "source": [
    "# scalar field value on each vertex (from vector field of soft constraints)\n",
    "scalars = construct_scalar_field(v, f, R)\n",
    "plot_vectors_and_scalars(v, f, R, scalars)\n",
    "np.savetxt('data/softconstr_reconstr_scalars.txt', scalars, delimiter=' ')"
   ]
  },
  {
   "cell_type": "markdown",
   "metadata": {},
   "source": [
    "## Poisson reconstruction error"
   ]
  },
  {
   "cell_type": "code",
   "execution_count": 45,
   "metadata": {},
   "outputs": [
    {
     "data": {
      "application/vnd.jupyter.widget-view+json": {
       "model_id": "0437010b7d0947b0aeeabce483d17de1",
       "version_major": 2,
       "version_minor": 0
      },
      "text/plain": [
       "Renderer(camera=PerspectiveCamera(children=(DirectionalLight(color='white', intensity=0.6, position=(0.0, 0.0,…"
      ]
     },
     "metadata": {},
     "output_type": "display_data"
    }
   ],
   "source": [
    "# print(igl.grad(v,f).shape)\n",
    "# print(v.shape)\n",
    "# print(f.shape)\n",
    "## reconstr_error on each face\n",
    "def plot_poisson_reconstr_error(vertices, faces, vectors, scalars):\n",
    "    grad_op = igl.grad(vertices, faces)\n",
    "    scalar_grad_flat = grad_op@scalars\n",
    "    scalar_grad = scalar_grad_flat.reshape((faces.shape[0], 3))\n",
    "    #Plot from face barycenters\n",
    "    B = igl.barycenter(vertices, faces)\n",
    "    p = mp.plot(vertices, faces, c=scalars)\n",
    "    p.add_lines(B, B + scalar_grad - vectors)\n",
    "    \n",
    "plot_poisson_reconstr_error(v, f, R, scalars)    "
   ]
  },
  {
   "cell_type": "code",
   "execution_count": null,
   "metadata": {},
   "outputs": [],
   "source": []
  }
 ],
 "metadata": {
  "kernelspec": {
   "display_name": "Python 3 (ipykernel)",
   "language": "python",
   "name": "python3"
  },
  "language_info": {
   "codemirror_mode": {
    "name": "ipython",
    "version": 3
   },
   "file_extension": ".py",
   "mimetype": "text/x-python",
   "name": "python",
   "nbconvert_exporter": "python",
   "pygments_lexer": "ipython3",
   "version": "3.8.12"
  }
 },
 "nbformat": 4,
 "nbformat_minor": 4
}
