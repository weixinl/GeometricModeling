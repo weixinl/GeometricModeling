{
 "cells": [
  {
   "cell_type": "markdown",
   "metadata": {},
   "source": [
    "# Diffusion Curves\n",
    "## There's a detailed description in the PDF report."
   ]
  },
  {
   "cell_type": "code",
   "execution_count": 1,
   "metadata": {},
   "outputs": [],
   "source": [
    "import numpy as np\n",
    "import matplotlib.pyplot as plt\n",
    "from matplotlib.collections import LineCollection\n",
    "import triangle as tr\n",
    "import igl\n",
    "import meshplot as mp\n",
    "import scipy.sparse as sp\n",
    "from sksparse.cholmod import cholesky\n",
    "from scipy.spatial.transform import Rotation"
   ]
  },
  {
   "cell_type": "markdown",
   "metadata": {},
   "source": [
    "## Create / Load Data\n",
    "- A geometric curve : cubic Bezier Spline\n",
    "- Several colors on both sides"
   ]
  },
  {
   "cell_type": "code",
   "execution_count": 2,
   "metadata": {},
   "outputs": [],
   "source": [
    "# x-y range of the image\n",
    "xmax = 2.0\n",
    "xmin = 0.0\n",
    "ymax = 2.0\n",
    "ymin = 0.0\n",
    "vmin = np.array([xmin, ymin])\n",
    "vmax = np.array([xmax, ymax])\n",
    "xrange = xmax - xmin\n",
    "yrange = ymax - ymin\n",
    "sample_num = 51\n",
    "# distance of left/right color curve to original curve\n",
    "small_dist = xrange/100"
   ]
  },
  {
   "cell_type": "markdown",
   "metadata": {},
   "source": [
    "### Bezier Curve"
   ]
  },
  {
   "cell_type": "code",
   "execution_count": 3,
   "metadata": {},
   "outputs": [
    {
     "data": {
      "text/plain": [
       "<matplotlib.collections.PathCollection at 0x1a05395fe50>"
      ]
     },
     "execution_count": 3,
     "metadata": {},
     "output_type": "execute_result"
    },
    {
     "data": {
      "image/png": "[encoded data removed]",
      "text/plain": [
       "<Figure size 432x288 with 1 Axes>"
      ]
     },
     "metadata": {
      "needs_background": "light"
     },
     "output_type": "display_data"
    }
   ],
   "source": [
    "def cubic_bezier(_t, _v0, _v1, _v2, _v3):\n",
    "    point = pow(1-_t, 3)*_v0 + 3*(1-_t)*(1-_t)*_t*_v1 + 3*(1-_t)*_t*_t*_v2 + pow(_t,3)*_v3\n",
    "    derivative = 3*(1-_t)*(1-_t)*(_v1-_v0) + 6*(1-_t)*_t*(_v2-_v1) + 3*_t*_t*(_v3-_v2)\n",
    "    # normalize\n",
    "    tangent = derivative / np.linalg.norm(derivative)\n",
    "    # rotate by 90 clockwise\n",
    "    # (x,y) -> (-y, x)\n",
    "    normal = np.array([-tangent[1], tangent[0]])   \n",
    "    return point, normal\n",
    "    \n",
    "# def create_cubic_bezier_spline_data():\n",
    "#     v0 = vmin + np.array([dx*0.1, dy*0.1])\n",
    "#     v1 = vmin + np.array([dx*0.7, dy*0.1])\n",
    "#     v2 = vmin + np.array([dx*0.1, dy*0.9])\n",
    "#     v3 = vmin + np.array([dx*0.9, dy*0.7])\n",
    "# #     vs = np.array([v0, v1, v2, v3])\n",
    "# #     plt.plot(vs[:,0],vs[:,1])\n",
    "#     vertices = []\n",
    "#     for i in range(20):\n",
    "#         vertices.append(cubic_bezier(i/20.0, v0, v1, v2, v3))\n",
    "#     vertices = np.array(vertices)\n",
    "#     plt.scatter(vertices[:,0],vertices[:,1])\n",
    "# create_cubic_bezier_spline_data()\n",
    "\n",
    "v0 = vmin + np.array([xrange*0.1, yrange*0.1])\n",
    "v1 = vmin + np.array([xrange*0.7, yrange*0.1])\n",
    "v2 = vmin + np.array([xrange*0.1, yrange*0.9])\n",
    "v3 = vmin + np.array([xrange*0.9, yrange*0.7])\n",
    "curve_vertices = []\n",
    "# left/right curves (color sources)\n",
    "curve_left_vertices = []\n",
    "curve_right_vertices = []\n",
    "curve_normals = []\n",
    "# delta t\n",
    "sample_interval = 1/float(sample_num-1)\n",
    "for i in range(sample_num):\n",
    "    v, normal = cubic_bezier(i*sample_interval, v0, v1, v2, v3)\n",
    "    v_left = v - small_dist * normal\n",
    "    v_right = v + small_dist * normal\n",
    "    curve_vertices.append(v)\n",
    "    curve_left_vertices.append(v_left)\n",
    "    curve_right_vertices.append(v_right)\n",
    "    curve_normals.append(normal)\n",
    "    \n",
    "curve_vertices = np.array(curve_vertices)\n",
    "curve_left_vertices = np.array(curve_left_vertices)\n",
    "curve_right_vertices = np.array(curve_right_vertices)\n",
    "plt.scatter(curve_vertices[:,0],curve_vertices[:,1])\n",
    "plt.scatter(curve_left_vertices[:,0],curve_left_vertices[:,1])\n",
    "plt.scatter(curve_right_vertices[:,0],curve_right_vertices[:,1])"
   ]
  },
  {
   "cell_type": "markdown",
   "metadata": {},
   "source": [
    "### Color Sources"
   ]
  },
  {
   "cell_type": "code",
   "execution_count": 4,
   "metadata": {},
   "outputs": [
    {
     "data": {
      "text/plain": [
       "<matplotlib.collections.LineCollection at 0x1a053a415b0>"
      ]
     },
     "execution_count": 4,
     "metadata": {},
     "output_type": "execute_result"
    },
    {
     "data": {
      "image/png": "[encoded data removed]",
      "text/plain": [
       "<Figure size 432x288 with 1 Axes>"
      ]
     },
     "metadata": {
      "needs_background": "light"
     },
     "output_type": "display_data"
    }
   ],
   "source": [
    "# color constraints on the left, each element is [r,g,b,t]\n",
    "# assume intervals (t1-t2) of any two constraints is greater than sample integrals\n",
    "cls_raw = np.array([[0.1,0.8,0.3,0.0],[0.5,0.1,0.5,1.0]])\n",
    "crs_raw = np.array([[0.9,0.3,0.7,0.0],[0.1,0.9,0.8,0.6],[0.6,0.2,0.4,1.0]])\n",
    "cls_raw_colors = cls_raw[:,:3]\n",
    "crs_raw_colors = crs_raw[:,:3]\n",
    "cls_raw_ts = cls_raw[:,3]\n",
    "crs_raw_ts = crs_raw[:,3]\n",
    "\n",
    "# interpolate to get colors of sample points\n",
    "# two iterators on raw colors\n",
    "def get_sample_colors(_raw_colors, _raw_ts):\n",
    "    raw_num = _raw_colors.shape[0]\n",
    "    raw_i = 0\n",
    "    raw_j = 1\n",
    "    raw_ti = _raw_ts[raw_i]\n",
    "    raw_tj = _raw_ts[raw_j]\n",
    "    sample_colors = []\n",
    "    for i in range(sample_num):\n",
    "        t = i*sample_interval\n",
    "        # t should be between ti and tj\n",
    "        if(t>raw_tj - 0.0001 and raw_j < raw_num - 1):\n",
    "            raw_j += 1\n",
    "            raw_tj = _raw_ts[raw_j]\n",
    "            raw_i += 1\n",
    "            raw_ti = _raw_ts[raw_i]\n",
    "        dti = t - raw_ti\n",
    "        dtj = raw_tj - t\n",
    "        x = dti/(dti+dtj)\n",
    "        color = x*_raw_colors[raw_j] + (1-x)*_raw_colors[raw_i]\n",
    "        sample_colors.append(color)\n",
    "    return np.array(sample_colors)\n",
    "        \n",
    "curve_left_colors = get_sample_colors(cls_raw_colors, cls_raw_ts)\n",
    "curve_right_colors = get_sample_colors(crs_raw_colors, crs_raw_ts)\n",
    "curve_left_vertices_reshaped = curve_left_vertices.reshape(-1,1,2)\n",
    "curve_left_segments = np.concatenate([curve_left_vertices_reshaped[:-1], curve_left_vertices_reshaped[1:]], axis=1)\n",
    "curve_right_vertices_reshaped = curve_right_vertices.reshape(-1,1,2)\n",
    "curve_right_segments = np.concatenate([curve_right_vertices_reshaped[:-1], curve_right_vertices_reshaped[1:]], axis=1)\n",
    "fig, ax = plt.subplots()\n",
    "ax.set_xlim(xmin, xmax)\n",
    "ax.set_ylim(ymin, ymax)\n",
    "curve_left_segments = LineCollection(curve_left_segments, colors=curve_left_colors[1:,:], linestyle='solid')\n",
    "curve_right_segments = LineCollection(curve_right_segments, colors=curve_right_colors[1:,:], linestyle='solid')\n",
    "ax.add_collection(curve_left_segments)\n",
    "ax.add_collection(curve_right_segments)\n",
    "# plt.scatter(curve_left_vertices[:,0],curve_left_vertices[:,1], c = curve_left_colors)\n",
    "# plt.plot(curve_right_vertices[:,0],curve_right_vertices[:,1], color = curve_right_colors)    "
   ]
  },
  {
   "cell_type": "markdown",
   "metadata": {},
   "source": [
    "### Gradients"
   ]
  },
  {
   "cell_type": "code",
   "execution_count": 5,
   "metadata": {},
   "outputs": [],
   "source": [
    "# N*2*3 array, N numbers, 2D(x and y axis), RGB value\n",
    "gradients = np.zeros((sample_num,2,3))\n",
    "for i in range(sample_num):\n",
    "    delta_color = curve_right_colors[i] - curve_left_colors[i]\n",
    "    normal = curve_normals[i]\n",
    "    # along x axis\n",
    "    gradients[i][0] = normal[0]*delta_color\n",
    "    # along y axis\n",
    "    gradients[i][1] = normal[1]*delta_color"
   ]
  },
  {
   "cell_type": "code",
   "execution_count": 6,
   "metadata": {},
   "outputs": [
    {
     "data": {
      "text/plain": [
       "Text(0.5, 1.0, 'Gradient in y direction')"
      ]
     },
     "execution_count": 6,
     "metadata": {},
     "output_type": "execute_result"
    },
    {
     "data": {
      "image/png": "[encoded data removed]",
      "text/plain": [
       "<Figure size 432x720 with 2 Axes>"
      ]
     },
     "metadata": {
      "needs_background": "light"
     },
     "output_type": "display_data"
    }
   ],
   "source": [
    "## To plot Gradient \n",
    "# map all elements to [0,1] (meet RGB requirements)\n",
    "gradient_vals = 0.5* (gradients + 1) \n",
    "# color_norm = plt.Normalize(gradient_vals.min(), gradient_vals.max())\n",
    "curve_vertices_reshaped = curve_vertices.reshape(-1,1,2)\n",
    "curve_segments = np.concatenate([curve_vertices_reshaped[:-1], curve_vertices_reshaped[1:]], axis=1)\n",
    "fig, (ax1, ax2) = plt.subplots(2, figsize=(6,10))\n",
    "# plt.gca().set_aspect('equal', adjustable='box')\n",
    "fig.tight_layout()\n",
    "ax1.set_xlim(xmin, xmax)\n",
    "ax1.set_ylim(ymin, ymax)\n",
    "curve_gradx_segments = LineCollection(curve_segments, colors=gradient_vals[1:,0,:], linestyle='solid')\n",
    "ax1.add_collection(curve_gradx_segments)\n",
    "ax1.set_title(\"Gradient in x direction\")\n",
    "# ax = fig.add_subplot(2,1,2)\n",
    "ax2.set_xlim(xmin, xmax)\n",
    "ax2.set_ylim(ymin, ymax)\n",
    "curve_grady_segments = LineCollection(curve_segments, colors=gradient_vals[1:,1,:], linestyle='solid')\n",
    "ax2.add_collection(curve_grady_segments)\n",
    "ax2.set_title(\"Gradient in y direction\")\n",
    "# plt.axis('scaled')"
   ]
  },
  {
   "cell_type": "markdown",
   "metadata": {},
   "source": [
    "## Triangle Meshes"
   ]
  },
  {
   "cell_type": "code",
   "execution_count": 7,
   "metadata": {},
   "outputs": [
    {
     "data": {
      "application/vnd.jupyter.widget-view+json": {
       "model_id": "9ee5b5ee893247adb6d33738a44c9243",
       "version_major": 2,
       "version_minor": 0
      },
      "text/plain": [
       "Renderer(camera=PerspectiveCamera(children=(DirectionalLight(color='white', intensity=0.6, position=(1.0, 1.0,…"
      ]
     },
     "metadata": {},
     "output_type": "display_data"
    },
    {
     "data": {
      "text/plain": [
       "<meshplot.Viewer.Viewer at 0x1a0539d6d60>"
      ]
     },
     "execution_count": 7,
     "metadata": {},
     "output_type": "execute_result"
    }
   ],
   "source": [
    "# original mesh points:  gradient points, color points (left/right curve), boundary points\n",
    "gradient_points = curve_vertices\n",
    "gradient_constrs = gradients\n",
    "gradient_constr_num = gradient_constrs.shape[0]\n",
    "color_points = np.concatenate((curve_left_vertices, curve_right_vertices), axis = 0)\n",
    "color_constrs = np.concatenate((curve_left_colors, curve_right_colors), axis = 0)\n",
    "color_constr_num = color_constrs.shape[0]\n",
    "bound_points = np.array([[xmin,ymin],[xmin,ymax],[xmax,ymin],[xmax,ymax]])\n",
    "bound_vnum = bound_points.shape[0]\n",
    "A = dict(vertices=np.concatenate((gradient_points, color_points, bound_points),axis=0))\n",
    "B = tr.triangulate(A, 'qa0.02')\n",
    "vertices = np.array(B['vertices'].tolist())\n",
    "triangles = np.array(B['triangles'].tolist())\n",
    "# tr.compare(plt, A, B)\n",
    "# plt.show()\n",
    "# print(color_constrs)\n",
    "mp.plot(vertices, triangles, shading = {\"flat\":True, \"wireframe\":True})"
   ]
  },
  {
   "cell_type": "markdown",
   "metadata": {},
   "source": [
    "## Diffusion"
   ]
  },
  {
   "cell_type": "markdown",
   "metadata": {},
   "source": [
    "### Divergence"
   ]
  },
  {
   "cell_type": "code",
   "execution_count": 15,
   "metadata": {},
   "outputs": [],
   "source": [
    "# (before averaging) d(w_t)/dx_t (tangent direction)\n",
    "# (n-1)*3 matrix, n-1 segments, 3 for RGB\n",
    "def calc_segment_divw():\n",
    "    divs = np.zeros((gradient_constr_num -1, 3))\n",
    "    for i in range(gradient_constr_num - 1):\n",
    "        dx = gradient_points[i+1] - gradient_points[i]\n",
    "        dx_len = np.linalg.norm(dx)\n",
    "        # 2*3 array\n",
    "        dw = gradient_constrs[i+1] - gradient_constrs[i] \n",
    "        divs[i,:] = (dx[0]*dw[0] + dx[1]*dw[1])/(dx_len*dx_len)\n",
    "    return divs\n",
    "\n",
    "def calc_segment_divw_accelerate():\n",
    "    dxs = gradient_points[1:,:] - gradient_points[:-1,:]\n",
    "    dx_lens = np.linalg.norm(dxs, axis = 1)\n",
    "    dx_lensqs = np.square(dx_lens)\n",
    "    dx_lensqinvs = np.reciprocal(dx_lensqs)\n",
    "    dw = gradient_constrs[1:,:,:] - gradient_constrs[:-1,:,:]\n",
    "    dwdx = np.einsum('ijk,ij->ik', dw, dxs)\n",
    "    divs = np.einsum('ij,i->ij', dwdx, dx_lensqinvs)\n",
    "    return divs\n",
    "\n",
    "divw0 = calc_segment_divw_accelerate()\n",
    "\n",
    "# print(divw0)\n",
    "# get averaged divergence of each point by averaging left segment and right segment\n",
    "divergence_constr_num = gradient_constr_num\n",
    "divergence_points = gradient_points\n",
    "divergence_constrs = np.zeros((divergence_constr_num, 3))\n",
    "divergence_constrs[0] = divw0[0]\n",
    "divergence_constrs[divergence_constr_num - 1] = divw0[divergence_constr_num - 2]\n",
    "for i in range(1, divergence_constr_num - 1):\n",
    "    divergence_constrs[i] = (divw0[i-1]+divw0[i])/2\n",
    "# print(divergence_constrs.shape)"
   ]
  },
  {
   "cell_type": "markdown",
   "metadata": {},
   "source": [
    "### Poisson Equation"
   ]
  },
  {
   "cell_type": "code",
   "execution_count": 16,
   "metadata": {},
   "outputs": [],
   "source": [
    "# number of all mesh points\n",
    "vnum = vertices.shape[0]\n",
    "cotmatrix = igl.cotmatrix(vertices, triangles)\n",
    "massmatrix = igl.massmatrix(vertices, triangles, igl.MASSMATRIX_TYPE_VORONOI)\n",
    "massinv = sp.diags(1 / massmatrix.diagonal())\n",
    "# Laplacian matrix\n",
    "L = massinv@cotmatrix\n",
    "# Divergence matrix\n",
    "D = np.zeros((vnum, 3))\n",
    "D[:divergence_constr_num,:] = divergence_constrs\n",
    "# LI = D with constraints"
   ]
  },
  {
   "cell_type": "markdown",
   "metadata": {},
   "source": [
    "### Matrix Partitioning"
   ]
  },
  {
   "cell_type": "code",
   "execution_count": 17,
   "metadata": {},
   "outputs": [],
   "source": [
    "# LxxIx = Dx - LxcIc\n",
    "unknown_ids = np.concatenate((range(divergence_constr_num),range(divergence_constr_num + color_constr_num, vnum)), axis = 0)\n",
    "constant_ids = np.array(range(divergence_constr_num, divergence_constr_num + color_constr_num))\n",
    "Lxx = L[unknown_ids,:][:,unknown_ids]\n",
    "Lxc = L[unknown_ids,:][:,constant_ids]\n",
    "Dx = D[unknown_ids,:]"
   ]
  },
  {
   "cell_type": "markdown",
   "metadata": {},
   "source": [
    "### Solve"
   ]
  },
  {
   "cell_type": "code",
   "execution_count": 18,
   "metadata": {},
   "outputs": [],
   "source": [
    "Ix = sp.linalg.spsolve(Lxx, Dx - Lxc@color_constrs)"
   ]
  },
  {
   "cell_type": "markdown",
   "metadata": {},
   "source": [
    "### Image with Diffused Color"
   ]
  },
  {
   "cell_type": "code",
   "execution_count": 19,
   "metadata": {},
   "outputs": [
    {
     "data": {
      "application/vnd.jupyter.widget-view+json": {
       "model_id": "47d14e446eb24442be6783e3c6dbb508",
       "version_major": 2,
       "version_minor": 0
      },
      "text/plain": [
       "Renderer(camera=PerspectiveCamera(children=(DirectionalLight(color='white', intensity=0.6, position=(1.0, 1.0,…"
      ]
     },
     "metadata": {},
     "output_type": "display_data"
    },
    {
     "data": {
      "text/plain": [
       "<meshplot.Viewer.Viewer at 0x1a053c95d60>"
      ]
     },
     "execution_count": 19,
     "metadata": {},
     "output_type": "execute_result"
    }
   ],
   "source": [
    "I = np.zeros((vnum,3))\n",
    "I[constant_ids,:] = color_constrs\n",
    "I[unknown_ids, :] = Ix\n",
    "mp.plot(vertices, triangles, c = I)"
   ]
  },
  {
   "cell_type": "code",
   "execution_count": null,
   "metadata": {},
   "outputs": [],
   "source": []
  }
 ],
 "metadata": {
  "kernelspec": {
   "display_name": "Python 3 (ipykernel)",
   "language": "python",
   "name": "python3"
  },
  "language_info": {
   "codemirror_mode": {
    "name": "ipython",
    "version": 3
   },
   "file_extension": ".py",
   "mimetype": "text/x-python",
   "name": "python",
   "nbconvert_exporter": "python",
   "pygments_lexer": "ipython3",
   "version": "3.9.7"
  }
 },
 "nbformat": 4,
 "nbformat_minor": 4
}
