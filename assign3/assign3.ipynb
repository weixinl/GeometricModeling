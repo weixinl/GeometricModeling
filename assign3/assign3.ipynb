{
 "cells": [
  {
   "cell_type": "code",
   "execution_count": 7,
   "metadata": {},
   "outputs": [],
   "source": [
    "import numpy as np\n",
    "import igl\n",
    "import meshplot as mp\n",
    "import scipy as sp"
   ]
  },
  {
   "cell_type": "code",
   "execution_count": 2,
   "metadata": {},
   "outputs": [
    {
     "name": "stderr",
     "output_type": "stream",
     "text": [
      "E:\\Programs\\Anaconoda\\envs\\py38\\lib\\site-packages\\jupyter_client\\session.py:716: UserWarning: Message serialization failed with:\n",
      "Out of range float values are not JSON compliant\n",
      "Supporting this message is deprecated in jupyter-client 7, please make sure your message is JSON-compliant\n",
      "  content = self.pack(content)\n"
     ]
    },
    {
     "data": {
      "application/vnd.jupyter.widget-view+json": {
       "model_id": "f9fcf2abc85642e78cbb6efc6b65641b",
       "version_major": 2,
       "version_minor": 0
      },
      "text/plain": [
       "Renderer(camera=PerspectiveCamera(children=(DirectionalLight(color='white', intensity=0.6, position=(-0.016860…"
      ]
     },
     "metadata": {},
     "output_type": "display_data"
    },
    {
     "data": {
      "text/plain": [
       "<meshplot.Viewer.Viewer at 0x27e8f29c610>"
      ]
     },
     "execution_count": 2,
     "metadata": {},
     "output_type": "execute_result"
    }
   ],
   "source": [
    "vertices, faces = igl.read_triangle_mesh(\"data/bunny.off\")\n",
    "mp.plot(vertices, faces)"
   ]
  },
  {
   "cell_type": "markdown",
   "metadata": {},
   "source": [
    "# Vertex Normals"
   ]
  },
  {
   "cell_type": "markdown",
   "metadata": {},
   "source": [
    "## Standard Vertex Normals"
   ]
  },
  {
   "cell_type": "code",
   "execution_count": 17,
   "metadata": {},
   "outputs": [
    {
     "name": "stdout",
     "output_type": "stream",
     "text": [
      "0\n",
      "[[-0.3244438   0.63479412  0.70126504]\n",
      " [ 0.69665946  0.04959323  0.71568576]\n",
      " [-0.31520596  0.88800006  0.33481502]\n",
      " [-0.32060982  0.56377388  0.76116251]\n",
      " [ 0.32801732  0.71566914  0.61662169]\n",
      " [ 0.46752195 -0.82488363  0.31778959]\n",
      " [ 0.98616611  0.11195933  0.1222355 ]\n",
      " [-0.01527532  0.99911017 -0.03931317]\n",
      " [-0.18490131  0.83290319  0.52161651]\n",
      " [-0.07445458  0.95117097  0.29955018]]\n"
     ]
    }
   ],
   "source": [
    "normals = igl.per_vertex_normals(vertices, faces, igl.PER_VERTEX_NORMALS_WEIGHTING_TYPE_UNIFORM)\n",
    "# print(igl.PER_VERTEX_NORMALS_WEIGHTING_TYPE_UNIFORM)\n",
    "print(normals[:10])"
   ]
  },
  {
   "cell_type": "markdown",
   "metadata": {},
   "source": [
    "## Area-weighted normals"
   ]
  },
  {
   "cell_type": "code",
   "execution_count": 19,
   "metadata": {},
   "outputs": [
    {
     "name": "stdout",
     "output_type": "stream",
     "text": [
      "[[-0.29687978  0.63027118  0.71737064]\n",
      " [ 0.70667502  0.01503088  0.70737861]\n",
      " [-0.30699487  0.89707826  0.31781245]\n",
      " [-0.3133118   0.55226669  0.77255241]\n",
      " [ 0.32879667  0.71679194  0.61490004]\n",
      " [ 0.46674245 -0.78643132  0.40457047]\n",
      " [ 0.98758883  0.11273692  0.10935577]\n",
      " [ 0.01378248  0.99760904 -0.06772188]\n",
      " [-0.18590899  0.82948052  0.52668769]\n",
      " [-0.08298597  0.95042872  0.2996641 ]]\n",
      "<class 'numpy.ndarray'>\n"
     ]
    }
   ],
   "source": [
    "# M = igl.massmatrix(vertices, faces, igl.MASSMATRIX_TYPE_VORONOI)\n",
    "# areas = sp.sparse.diags(1 / M.diagonal())\n",
    "area_weighted_normals = igl.per_vertex_normals(vertices, faces, igl.PER_VERTEX_NORMALS_WEIGHTING_TYPE_AREA )\n",
    "print(area_weighted_normals[:10])\n",
    "print(type(area_weighted_normals))"
   ]
  },
  {
   "cell_type": "markdown",
   "metadata": {},
   "source": [
    "## Mean-curvature normals"
   ]
  },
  {
   "cell_type": "code",
   "execution_count": null,
   "metadata": {},
   "outputs": [],
   "source": []
  }
 ],
 "metadata": {
  "kernelspec": {
   "display_name": "Python 3 (ipykernel)",
   "language": "python",
   "name": "python3"
  },
  "language_info": {
   "codemirror_mode": {
    "name": "ipython",
    "version": 3
   },
   "file_extension": ".py",
   "mimetype": "text/x-python",
   "name": "python",
   "nbconvert_exporter": "python",
   "pygments_lexer": "ipython3",
   "version": "3.8.12"
  }
 },
 "nbformat": 4,
 "nbformat_minor": 4
}
